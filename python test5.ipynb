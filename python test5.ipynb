{
 "cells": [
  {
   "cell_type": "markdown",
   "id": "eb92e0fb-7d34-4e99-8055-518344495fa9",
   "metadata": {},
   "source": [
    "**Q1). Write a Python Program to Find the Sum of Natural Numbers.**"
   ]
  },
  {
   "cell_type": "code",
   "execution_count": 12,
   "id": "07dd246f-0fbe-4ce8-bc38-1a9aa2be5ea5",
   "metadata": {},
   "outputs": [
    {
     "name": "stdin",
     "output_type": "stream",
     "text": [
      "Enter_Num 10\n"
     ]
    },
    {
     "name": "stdout",
     "output_type": "stream",
     "text": [
      "sum of first N natural number:55\n"
     ]
    }
   ],
   "source": [
    "def natural_sum(N_num):         #N_num = first n natural number\n",
    "    summ=format((N_num*(N_num+1))/2, \".0f\")\n",
    "    print(f\"sum of first N natural number:{summ}\")\n",
    "natural_sum(int(input(\"Enter_Num\")))  #sum of n natural number"
   ]
  },
  {
   "cell_type": "code",
   "execution_count": 7,
   "id": "fe8e081b-e3ba-4243-a56a-9f7c47f8d980",
   "metadata": {},
   "outputs": [
    {
     "name": "stdin",
     "output_type": "stream",
     "text": [
      "Enter number 10\n"
     ]
    },
    {
     "name": "stdout",
     "output_type": "stream",
     "text": [
      "sum of:55\n"
     ]
    }
   ],
   "source": [
    "def natural_sum(end_numer):\n",
    "    summ=0\n",
    "    for i in range(1,end_numer+1):\n",
    "        summ=summ+i\n",
    "    print(f\"sum of:{summ}\")\n",
    "natural_sum(int(input(\"Enter number\")))  #but sum of range to end number"
   ]
  },
  {
   "cell_type": "markdown",
   "id": "8062e5d8-f753-4425-9a48-52f20868edd0",
   "metadata": {},
   "source": [
    "**Q2). Write a Python Program to Make a Simple Calculator with 4 basic mathematical operations.**"
   ]
  },
  {
   "cell_type": "code",
   "execution_count": 25,
   "id": "4bfe2d76-b6bc-4c1f-a4a9-e8c980f20a0d",
   "metadata": {},
   "outputs": [
    {
     "name": "stdin",
     "output_type": "stream",
     "text": [
      "Enter num1: 13\n",
      "Enter num2: 13\n",
      "Enter digit 1 to 4: 3\n"
     ]
    },
    {
     "name": "stdout",
     "output_type": "stream",
     "text": [
      "sum of 13 and 13 is :169\n"
     ]
    }
   ],
   "source": [
    "def calculater(num1,num2):\n",
    "    choose_operation=int(input(\"Enter digit 1 to 4:\"))\n",
    "    if 0<choose_operation<5:\n",
    "        if choose_operation==1:\n",
    "            summ=num1+num2\n",
    "            print(f\"sum of {num1} and {num2} is :{summ}\")\n",
    "        elif choose_operation==2:\n",
    "            subb=num1-num2\n",
    "            print(f\"sum of {num1} and {num2} is :{subb}\")\n",
    "        elif choose_operation==3:\n",
    "            mul=num1*num2\n",
    "            print(f\"sum of {num1} and {num2} is :{mul}\")\n",
    "        else:\n",
    "            divi=(num1/num2)\n",
    "            print(f\"sum of {num1} and {num2} is :{divi}\")\n",
    "    else:\n",
    "        print(\"choose digit from 1 to 4.\")\n",
    "calculater(eval(input(\"Enter num1:\")),eval(input(\"Enter num2:\")))\n",
    "    "
   ]
  },
  {
   "cell_type": "markdown",
   "id": "2d80e75b-f31f-47dd-9def-b8de73b3b84d",
   "metadata": {},
   "source": [
    "**Q3. Write a Python Program to Find Factorial of Number.**"
   ]
  },
  {
   "cell_type": "code",
   "execution_count": 30,
   "id": "877112d2-f833-46e1-aa2f-ee16e3143a8f",
   "metadata": {},
   "outputs": [
    {
     "name": "stdin",
     "output_type": "stream",
     "text": [
      "Enter number: 5\n"
     ]
    },
    {
     "name": "stdout",
     "output_type": "stream",
     "text": [
      "factorial is:120\n"
     ]
    }
   ],
   "source": [
    "def factorial(num1):     #num1=factrial of number\n",
    "    factorial=1\n",
    "    for i in range(1,num1+1):\n",
    "        factorial=factorial*i\n",
    "    print(f\"factorial is:{factorial}\")\n",
    "factorial(int(input(\"Enter number:\")))"
   ]
  },
  {
   "cell_type": "markdown",
   "id": "07ecd42d-3835-4ba6-b140-02243af6c4c0",
   "metadata": {},
   "source": [
    "**Q4). Write a Python Program to find sum of list.**"
   ]
  },
  {
   "cell_type": "code",
   "execution_count": 34,
   "id": "6ffeba41-0404-488e-8ddb-9a8a4982dab1",
   "metadata": {},
   "outputs": [
    {
     "name": "stdout",
     "output_type": "stream",
     "text": [
      "New list:[20, 30, 40, 50, 'hockey', 'football', 'cricket']\n"
     ]
    }
   ],
   "source": [
    "def sum_lists(list1,list2):\n",
    "    new_list=list1+list2\n",
    "    print(f\"New list:{new_list}\")\n",
    "sum_lists([20,30,40,50],[\"hockey\",\"football\",\"cricket\"])"
   ]
  },
  {
   "cell_type": "markdown",
   "id": "f97e1060-e73d-4959-ac2f-bf525173f790",
   "metadata": {},
   "source": [
    "**Q5). Write a Python Program to Sort Words in Alphabetic Order.**"
   ]
  },
  {
   "cell_type": "code",
   "execution_count": 36,
   "id": "2d5461b7-9b19-4e2a-8907-1be246945234",
   "metadata": {},
   "outputs": [
    {
     "name": "stdin",
     "output_type": "stream",
     "text": [
      "Enter a word: hello world\n"
     ]
    },
    {
     "name": "stdout",
     "output_type": "stream",
     "text": [
      "sorted word: dehllloorw\n"
     ]
    }
   ],
   "source": [
    "def sort(str1):\n",
    "    l1=[]\n",
    "    for i in str1:\n",
    "        l1.append(i)\n",
    "    print(f\"sorted word:{''.join(sorted(l1))}\")\n",
    "sort(input(\"Enter a word:\"))"
   ]
  },
  {
   "cell_type": "code",
   "execution_count": null,
   "id": "882f578b-13a1-4a0b-add1-7865dc6eb612",
   "metadata": {},
   "outputs": [],
   "source": []
  }
 ],
 "metadata": {
  "kernelspec": {
   "display_name": "Python 3 (ipykernel)",
   "language": "python",
   "name": "python3"
  },
  "language_info": {
   "codemirror_mode": {
    "name": "ipython",
    "version": 3
   },
   "file_extension": ".py",
   "mimetype": "text/x-python",
   "name": "python",
   "nbconvert_exporter": "python",
   "pygments_lexer": "ipython3",
   "version": "3.11.7"
  }
 },
 "nbformat": 4,
 "nbformat_minor": 5
}
