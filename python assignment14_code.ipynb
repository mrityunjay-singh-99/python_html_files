{
 "cells": [
  {
   "cell_type": "code",
   "execution_count": 55,
   "id": "48291c41-5edf-495d-97fa-d77de1283e24",
   "metadata": {},
   "outputs": [],
   "source": [
    "#s1=  create lowercase  letter list using string package\n",
    "#s2= create a digit  listb 1 to 26\n",
    "#s3= creat a dict {a:1,b:2.....z:26}\n",
    "#s4= enter the string: \"hai\"\n",
    "#s5= output: 8-1-9"
   ]
  },
  {
   "cell_type": "code",
   "execution_count": 62,
   "id": "2f19360c-ef91-48f5-b09b-81ce5dd2ffd5",
   "metadata": {},
   "outputs": [
    {
     "name": "stdout",
     "output_type": "stream",
     "text": [
      "Alphabats:['a', 'b', 'c', 'd', 'e', 'f', 'g', 'h', 'i', 'j', 'k', 'l', 'm', 'n', 'o', 'p', 'q', 'r', 's', 't', 'u', 'v', 'w', 'x', 'y', 'z']\n",
      "Numbers:[1, 2, 3, 4, 5, 6, 7, 8, 9, 10, 11, 12, 13, 14, 15, 16, 17, 18, 19, 20, 21, 22, 23, 24, 25, 26]\n",
      "Dictionary:{'a': 1, 'b': 2, 'c': 3, 'd': 4, 'e': 5, 'f': 6, 'g': 7, 'h': 8, 'i': 9, 'j': 10, 'k': 11, 'l': 12, 'm': 13, 'n': 14, 'o': 15, 'p': 16, 'q': 17, 'r': 18, 's': 19, 't': 20, 'u': 21, 'v': 22, 'w': 23, 'x': 24, 'y': 25, 'z': 26}\n"
     ]
    },
    {
     "name": "stdin",
     "output_type": "stream",
     "text": [
      "Enter Word: hai\n"
     ]
    },
    {
     "name": "stdout",
     "output_type": "stream",
     "text": [
      "Output:8-1-9\n"
     ]
    }
   ],
   "source": [
    "import string\n",
    "l1=string.ascii_lowercase\n",
    "l1=list(l1)\n",
    "l2=[]\n",
    "for i in range(1,27):\n",
    "    l2.append(i)\n",
    "print(f\"Alphabats:{l1}\")\n",
    "print(f\"Numbers:{l2}\")\n",
    "d={}\n",
    "for i,j in zip(l1,l2):\n",
    "    d[i]=j\n",
    "print(f\"Dictionary:{d}\")\n",
    "enter_dict=input(\"Enter Word:\")\n",
    "list_enter=list(enter_dict)\n",
    "#print(list_enter)\n",
    "new_list1=[]\n",
    "for i in list_enter:\n",
    "    new_list1.append(str(d[i]))\n",
    "#print(new_list1)\n",
    "str1='-'.join(new_list1)\n",
    "print(f\"Output:{str1}\")"
   ]
  },
  {
   "cell_type": "code",
   "execution_count": 63,
   "id": "76716596-1d10-4228-900e-befe806ffb16",
   "metadata": {},
   "outputs": [
    {
     "name": "stdout",
     "output_type": "stream",
     "text": [
      "['8', '1', '9']\n"
     ]
    },
    {
     "data": {
      "text/plain": [
       "'8-1-9'"
      ]
     },
     "execution_count": 63,
     "metadata": {},
     "output_type": "execute_result"
    }
   ],
   "source": [
    "#sample\n",
    "nt1=[]\n",
    "for i in list_enter:\n",
    "    nt1.append(str(d[i]))\n",
    "print(nt1)\n",
    "str1='-'.join(nt1)\n",
    "str1\n"
   ]
  }
 ],
 "metadata": {
  "kernelspec": {
   "display_name": "Python 3 (ipykernel)",
   "language": "python",
   "name": "python3"
  },
  "language_info": {
   "codemirror_mode": {
    "name": "ipython",
    "version": 3
   },
   "file_extension": ".py",
   "mimetype": "text/x-python",
   "name": "python",
   "nbconvert_exporter": "python",
   "pygments_lexer": "ipython3",
   "version": "3.11.7"
  }
 },
 "nbformat": 4,
 "nbformat_minor": 5
}
