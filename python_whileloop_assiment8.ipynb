{
 "cells": [
  {
   "cell_type": "code",
   "execution_count": null,
   "id": "9ea7bf47-e78a-4e94-bf67-3cddd2a84078",
   "metadata": {},
   "outputs": [],
   "source": [
    "**Q1).WAP ask the user print the square of the numbers from 1 to 5**"
   ]
  },
  {
   "cell_type": "code",
   "execution_count": 1,
   "id": "bf1f74e2-5f78-4e01-8c3d-f965332d3cd7",
   "metadata": {},
   "outputs": [
    {
     "name": "stdout",
     "output_type": "stream",
     "text": [
      "1 2 3 4 5 "
     ]
    }
   ],
   "source": [
    "i=1\n",
    "while i<6:\n",
    "    print(i,end=' ')\n",
    "    i=i+1"
   ]
  },
  {
   "cell_type": "markdown",
   "id": "4fddb005-c0b7-4f04-bf18-535cfd2f901b",
   "metadata": {},
   "source": [
    "**Q2). WAP ask the user take 5 random numbers between 10 to 100 /n and print the square of the random numbers**"
   ]
  },
  {
   "cell_type": "code",
   "execution_count": 3,
   "id": "40586939-e861-48ae-9d7c-2e56a489f5a6",
   "metadata": {},
   "outputs": [
    {
     "name": "stdout",
     "output_type": "stream",
     "text": [
      "the number is:98 and square is:9604\n",
      "the number is:73 and square is:5329\n",
      "the number is:12 and square is:144\n",
      "the number is:19 and square is:361\n",
      "the number is:90 and square is:8100\n"
     ]
    }
   ],
   "source": [
    "import random\n",
    "i=1\n",
    "while i<6:\n",
    "    num=random.randint(10,100)\n",
    "    print(f\"the number is:{num} and square is:{num*num}\")\n",
    "    i=i+1\n",
    "    "
   ]
  },
  {
   "cell_type": "markdown",
   "id": "26ed9876-0f59-435f-b757-b030fbf88349",
   "metadata": {},
   "source": [
    "**Q3). WAP ask the user take 5 random numbers between 10 to 100 /n and print the square of the random numbers**\n",
    "**Q3).Create a function on reuse code lines\n",
    "  call that function inside the for loop**"
   ]
  },
  {
   "cell_type": "code",
   "execution_count": 3,
   "id": "3f2e621e-1df4-4714-b274-a8192b9dcc73",
   "metadata": {},
   "outputs": [
    {
     "name": "stdout",
     "output_type": "stream",
     "text": [
      "the number is: 82 and their square is: 6724\n",
      "the number is: 82 and their square is: 6724\n",
      "the number is: 82 and their square is: 6724\n",
      "the number is: 82 and their square is: 6724\n"
     ]
    }
   ],
   "source": [
    "import random\n",
    "def square():\n",
    "    num=random.randint(1,100)\n",
    "    squ=num*num\n",
    "    return(f\"the number is: {num} and their square is: {squ}\")\n",
    "ans=square()\n",
    "i=1\n",
    "while i<5:\n",
    "    print(ans)\n",
    "    i=i+1"
   ]
  },
  {
   "cell_type": "markdown",
   "id": "71a53ab6-a2e6-4053-8329-5b89d3670408",
   "metadata": {},
   "source": [
    "**Q4).wap ask the user enter a value from keyboard 5 times /print that value is even or odd**"
   ]
  },
  {
   "cell_type": "code",
   "execution_count": 6,
   "id": "9135faf8-d420-46f2-a027-64c4639a1842",
   "metadata": {},
   "outputs": [
    {
     "name": "stdin",
     "output_type": "stream",
     "text": [
      "enter number: 23\n"
     ]
    },
    {
     "name": "stdout",
     "output_type": "stream",
     "text": [
      "the number is odd.\n"
     ]
    },
    {
     "name": "stdin",
     "output_type": "stream",
     "text": [
      "enter number: 456\n"
     ]
    },
    {
     "name": "stdout",
     "output_type": "stream",
     "text": [
      "the number is even.\n"
     ]
    },
    {
     "name": "stdin",
     "output_type": "stream",
     "text": [
      "enter number: 24\n"
     ]
    },
    {
     "name": "stdout",
     "output_type": "stream",
     "text": [
      "the number is even.\n"
     ]
    },
    {
     "name": "stdin",
     "output_type": "stream",
     "text": [
      "enter number: 87\n"
     ]
    },
    {
     "name": "stdout",
     "output_type": "stream",
     "text": [
      "the number is odd.\n"
     ]
    },
    {
     "name": "stdin",
     "output_type": "stream",
     "text": [
      "enter number: 29\n"
     ]
    },
    {
     "name": "stdout",
     "output_type": "stream",
     "text": [
      "the number is odd.\n"
     ]
    }
   ],
   "source": [
    "i=1\n",
    "while i<6:\n",
    "    num=eval(input(\"enter number:\"))\n",
    "    if num%2==0:\n",
    "        print(f\"the number is even.\")\n",
    "    else:\n",
    "        print(f\"the number is odd.\")\n",
    "    i=i+1\n",
    "    \n",
    "    "
   ]
  },
  {
   "cell_type": "markdown",
   "id": "9185e168-c2d6-494a-ae96-058d8649e1f6",
   "metadata": {},
   "source": [
    "**6)Wap to create 9th table**"
   ]
  },
  {
   "cell_type": "code",
   "execution_count": 7,
   "id": "0f2db214-d56c-4800-bf07-27ad032f83e5",
   "metadata": {},
   "outputs": [
    {
     "name": "stdout",
     "output_type": "stream",
     "text": [
      "9*1=9\n",
      "9*2=18\n",
      "9*3=27\n",
      "9*4=36\n",
      "9*5=45\n",
      "9*6=54\n",
      "9*7=63\n",
      "9*8=72\n",
      "9*9=81\n",
      "9*10=90\n"
     ]
    }
   ],
   "source": [
    "i=1\n",
    "while i<11:\n",
    "    print(f\"9*{i}={9*i}\")\n",
    "    i=i+1"
   ]
  },
  {
   "cell_type": "markdown",
   "id": "7864e98f-289a-4389-beba-bddfabf9458c",
   "metadata": {},
   "source": [
    "**7Q) WAP to print the divisiors of enter value**"
   ]
  },
  {
   "cell_type": "code",
   "execution_count": 9,
   "id": "5348e754-da21-4891-952a-8946315fe25d",
   "metadata": {},
   "outputs": [
    {
     "name": "stdin",
     "output_type": "stream",
     "text": [
      " 50\n"
     ]
    },
    {
     "name": "stdout",
     "output_type": "stream",
     "text": [
      "the divisior is:1\n",
      "the divisior is:2\n",
      "the divisior is:5\n",
      "the divisior is:10\n",
      "the divisior is:25\n",
      "the divisior is:50\n"
     ]
    }
   ],
   "source": [
    "num=eval(input(\"Enter the number:\"))\n",
    "i=1\n",
    "while i<num+1:\n",
    "    if num%i==0:\n",
    "        print(f\"the divisior is:{i}\")\n",
    "    i=i+1"
   ]
  },
  {
   "cell_type": "markdown",
   "id": "9d2d8b7b-6ecd-4cb9-a6db-fc2bd985203a",
   "metadata": {},
   "source": [
    "**Q8) WAP print the sum of first 10 natural numbers**"
   ]
  },
  {
   "cell_type": "code",
   "execution_count": 13,
   "id": "c2ed3441-1d02-43cb-a1aa-0f013eac73a7",
   "metadata": {},
   "outputs": [
    {
     "name": "stdout",
     "output_type": "stream",
     "text": [
      "the sum of natural number is:55\n"
     ]
    }
   ],
   "source": [
    "count=0\n",
    "i=1\n",
    "while i<11:\n",
    "    count=count+i\n",
    "    i=i+1\n",
    "print(f\"the sum of natural number is:{count}\")    "
   ]
  },
  {
   "cell_type": "markdown",
   "id": "a3dbbaa3-c29f-43ce-9c22-58989f5e5872",
   "metadata": {},
   "source": [
    "**Q9) WAP to print the divisiors of enter value and count it.**"
   ]
  },
  {
   "cell_type": "code",
   "execution_count": null,
   "id": "1675f924-ba9a-4684-8d7c-930d0e7ad42c",
   "metadata": {},
   "outputs": [],
   "source": [
    "num=eval(input())\n",
    "count=0\n",
    "i=1\n",
    "while i<num+1:\n",
    "    if num%i==0:\n",
    "        count=count+1\n",
    "        i=i+1\n",
    "        print(count)\n",
    "print(f\"the divisior is:{num} and total number of divisior:{count} \")\n",
    "    "
   ]
  },
  {
   "cell_type": "markdown",
   "id": "b799bba4-e3d2-4f70-af42-349f2909fb42",
   "metadata": {},
   "source": [
    "**10Q) Ask the user enter one number from keyboard and ask the user get the second number randomly from 1 to 10 if num1 == num2 then print you won otherwise print you lost.Iterate these lines 3 times**"
   ]
  },
  {
   "cell_type": "code",
   "execution_count": 7,
   "id": "47f7925e-c702-483c-9d8e-82d00ac15adc",
   "metadata": {},
   "outputs": [
    {
     "name": "stdin",
     "output_type": "stream",
     "text": [
      "Enter the number: 5\n"
     ]
    },
    {
     "name": "stdout",
     "output_type": "stream",
     "text": [
      "5\n",
      "you loose the match.\n"
     ]
    },
    {
     "name": "stdin",
     "output_type": "stream",
     "text": [
      "Enter the number: 2\n"
     ]
    },
    {
     "name": "stdout",
     "output_type": "stream",
     "text": [
      "2\n",
      "you loose the match.\n"
     ]
    },
    {
     "name": "stdin",
     "output_type": "stream",
     "text": [
      "Enter the number: 9\n"
     ]
    },
    {
     "name": "stdout",
     "output_type": "stream",
     "text": [
      "9\n",
      "you loose the match.\n"
     ]
    },
    {
     "name": "stdin",
     "output_type": "stream",
     "text": [
      "Enter the number: 6\n"
     ]
    },
    {
     "name": "stdout",
     "output_type": "stream",
     "text": [
      "6\n",
      "you loose the match.\n"
     ]
    }
   ],
   "source": [
    "import random\n",
    "i=1\n",
    "while i<5:\n",
    "    num1=eval(input(\"Enter the number:\"))\n",
    "    print(num1)\n",
    "    num2=random.randint(1,10)\n",
    "    i=i+1\n",
    "    if num1==num2:\n",
    "        print(f\"you win the match.\")\n",
    "        break\n",
    "    else:\n",
    "        print(f'you loose the match.')\n",
    "        "
   ]
  },
  {
   "cell_type": "markdown",
   "id": "666556e3-6be2-4af8-bcb6-312c30e000f4",
   "metadata": {},
   "source": [
    "**Case-2: give 5 chances**\n",
    "- whenever fail print the number of chances leftn/\n",
    "**case-3: Suppose your all chances are over**\n",
    "- print your account locked try after 24hours"
   ]
  },
  {
   "cell_type": "code",
   "execution_count": null,
   "id": "fa17aca7-4b9e-4b82-9e9b-ddaf4008ec77",
   "metadata": {},
   "outputs": [
    {
     "name": "stdin",
     "output_type": "stream",
     "text": [
      "Enter the number: 4\n"
     ]
    },
    {
     "name": "stdout",
     "output_type": "stream",
     "text": [
      "you loose the match.\n",
      "Alert!, 4 is only left.\n"
     ]
    },
    {
     "name": "stdin",
     "output_type": "stream",
     "text": [
      "Enter the number: 3\n"
     ]
    },
    {
     "name": "stdout",
     "output_type": "stream",
     "text": [
      "you loose the match.\n",
      "Alert!, 3 is only left.\n"
     ]
    },
    {
     "name": "stdin",
     "output_type": "stream",
     "text": [
      "Enter the number: 1\n"
     ]
    },
    {
     "name": "stdout",
     "output_type": "stream",
     "text": [
      "you loose the match.\n",
      "Alert!, 2 is only left.\n"
     ]
    },
    {
     "name": "stdin",
     "output_type": "stream",
     "text": [
      "Enter the number: 6\n"
     ]
    },
    {
     "name": "stdout",
     "output_type": "stream",
     "text": [
      "you loose the match.\n",
      "Alert!, 1 is only left.\n"
     ]
    },
    {
     "name": "stdin",
     "output_type": "stream",
     "text": [
      "Enter the number: 8\n"
     ]
    },
    {
     "name": "stdout",
     "output_type": "stream",
     "text": [
      "you loose the match.\n",
      "Alert!, 0 is only left.\n",
      "your account is blocked for 24 hours\n"
     ]
    }
   ],
   "source": [
    "import random\n",
    "import time\n",
    "count=0\n",
    "i=1\n",
    "while i<6:\n",
    "    num1=eval(input(\"Enter the number:\"))\n",
    "    num2=random.randint(1,10)\n",
    "    i=i+1\n",
    "    if num1==num2:\n",
    "        print(f\"you win the match.\")\n",
    "        break\n",
    "    else:\n",
    "        print(f'you loose the match.')\n",
    "        count=count+1\n",
    "        print(f\"Alert!, {5-count} is only left.\")\n",
    "        if count==5:\n",
    "            print(f\"your account is blocked for 24 hours\")\n",
    "            time.sleep(284)\n",
    "            print(f\"you can play match.\")\n",
    "        "
   ]
  },
  {
   "cell_type": "code",
   "execution_count": null,
   "id": "5413e136-8946-43ba-af61-e9a393c9f7fa",
   "metadata": {},
   "outputs": [],
   "source": []
  }
 ],
 "metadata": {
  "kernelspec": {
   "display_name": "Python 3 (ipykernel)",
   "language": "python",
   "name": "python3"
  },
  "language_info": {
   "codemirror_mode": {
    "name": "ipython",
    "version": 3
   },
   "file_extension": ".py",
   "mimetype": "text/x-python",
   "name": "python",
   "nbconvert_exporter": "python",
   "pygments_lexer": "ipython3",
   "version": "3.11.7"
  }
 },
 "nbformat": 4,
 "nbformat_minor": 5
}
