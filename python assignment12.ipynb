{
 "cells": [
  {
   "cell_type": "markdown",
   "id": "ef5824ae-1d83-46c0-ad8d-2dce76c82994",
   "metadata": {},
   "source": [
    "**1.clear**"
   ]
  },
  {
   "cell_type": "code",
   "execution_count": 28,
   "id": "0224d5de-f60d-4727-831f-15da6a447e3c",
   "metadata": {},
   "outputs": [],
   "source": [
    "list1=['Apple','Ball','Cat','Dog','elephant','Fox','Goat']\n",
    "list1.clear()\n",
    "#list.clear() takes no arguments"
   ]
  },
  {
   "cell_type": "code",
   "execution_count": 2,
   "id": "d1b3d4f5-1c5c-46d3-baaf-a50cace8859c",
   "metadata": {},
   "outputs": [
    {
     "data": {
      "text/plain": [
       "[]"
      ]
     },
     "execution_count": 2,
     "metadata": {},
     "output_type": "execute_result"
    }
   ],
   "source": [
    "list1"
   ]
  },
  {
   "cell_type": "markdown",
   "id": "e1171e1d-27a3-43a2-aa68-ecb63256fba6",
   "metadata": {},
   "source": [
    "**2.copy**"
   ]
  },
  {
   "cell_type": "code",
   "execution_count": 6,
   "id": "48a0fcfa-d3ba-4679-ae0d-cb85ac7e6b9b",
   "metadata": {},
   "outputs": [
    {
     "data": {
      "text/plain": [
       "[10, 20, 30, 40, 50, 60, 70, 80, 90]"
      ]
     },
     "execution_count": 6,
     "metadata": {},
     "output_type": "execute_result"
    }
   ],
   "source": [
    "list2=[10,20,30,40,50,60,70,80,90]\n",
    "list2.copy()\n",
    "# list.copy() takes no arguments"
   ]
  },
  {
   "cell_type": "markdown",
   "id": "50c8ffc3-eac0-4f81-841c-31f084a542a9",
   "metadata": {},
   "source": [
    "**3.count**"
   ]
  },
  {
   "cell_type": "code",
   "execution_count": 12,
   "id": "fb88c09d-21c2-45ba-bf22-e8112899f9bf",
   "metadata": {},
   "outputs": [
    {
     "data": {
      "text/plain": [
       "3"
      ]
     },
     "execution_count": 12,
     "metadata": {},
     "output_type": "execute_result"
    }
   ],
   "source": [
    "list3=[10,10,10,20,20,30,30,40,40,40,50]\n",
    "list3.count(40)\n",
    "#list.count() takes exactly one argument"
   ]
  },
  {
   "cell_type": "markdown",
   "id": "d3ac3dc4-44b8-4abb-bbc9-103d5bc69976",
   "metadata": {},
   "source": [
    "**4.extend**\n",
    "- concatination\n",
    "- append"
   ]
  },
  {
   "cell_type": "code",
   "execution_count": 16,
   "id": "83d9297e-5ecf-4027-9e73-1c31b592093d",
   "metadata": {},
   "outputs": [
    {
     "data": {
      "text/plain": [
       "[10, 20, 30, 40, 50, 60, 70, 80, 90, '1', '0', '0', '1', '0', '0']"
      ]
     },
     "execution_count": 16,
     "metadata": {},
     "output_type": "execute_result"
    }
   ],
   "source": [
    "#extend\n",
    "list2=[10,20,30,40,50,60,70,80,90]\n",
    "list2.extend('100')\n",
    "list2"
   ]
  },
  {
   "cell_type": "code",
   "execution_count": 24,
   "id": "0b843728-d245-4163-a751-b85aa72cbe29",
   "metadata": {},
   "outputs": [
    {
     "data": {
      "text/plain": [
       "[10, 20, 30, 40, 50, 60, 70, 80, 90, '1', '0', '0', '1', '0', '0', 25, 25, 25]"
      ]
     },
     "execution_count": 24,
     "metadata": {},
     "output_type": "execute_result"
    }
   ],
   "source": [
    "#append\n",
    "list22=list2.append(25)\n",
    "list2"
   ]
  },
  {
   "cell_type": "code",
   "execution_count": 27,
   "id": "525bec86-bc0d-46d9-9aab-83a4c76524d3",
   "metadata": {},
   "outputs": [
    {
     "data": {
      "text/plain": [
       "[10, 20, 30, 40, 50, 10, 20, 30, 40, 50]"
      ]
     },
     "execution_count": 27,
     "metadata": {},
     "output_type": "execute_result"
    }
   ],
   "source": [
    "#concatinate\n",
    "l1=[10,20,30,40,50]\n",
    "l2=['Apple','Ball','Cat']\n",
    "l3=l1+l2\n",
    "l3"
   ]
  },
  {
   "cell_type": "markdown",
   "id": "6044c3c7-68d8-4829-840c-bd7f6ae02d5b",
   "metadata": {},
   "source": [
    "**5.index**"
   ]
  },
  {
   "cell_type": "code",
   "execution_count": 18,
   "id": "c9d0d278-5e8a-424b-a502-3910af14ca9a",
   "metadata": {},
   "outputs": [
    {
     "data": {
      "text/plain": [
       "5"
      ]
     },
     "execution_count": 18,
     "metadata": {},
     "output_type": "execute_result"
    }
   ],
   "source": [
    "list5=['Apple','Ball','Cat','Dog','elephant','Fox','Goat']\n",
    "list5.index('Fox')"
   ]
  },
  {
   "cell_type": "markdown",
   "id": "8470a2e6-cae8-4b6b-9d14-eabd8cc96e11",
   "metadata": {},
   "source": [
    "**Q6) can canner can not a can but canner can you make a can**\n",
    "- find out the each word how many times repeated\n",
    "- step-1 : split it\n",
    "- step-2: iterate it\n",
    "- step-3: we have count method (count shoud not use)"
   ]
  },
  {
   "cell_type": "code",
   "execution_count": 44,
   "id": "7bdc263b-914c-4a8e-90a1-f2cb12c4be5e",
   "metadata": {},
   "outputs": [
    {
     "name": "stdout",
     "output_type": "stream",
     "text": [
      "['can', 'canner', 'can', 'not', 'a', 'can', 'but', 'canner', 'can', 'you', 'make', 'a', 'can']\n",
      "can:5\n",
      "canner:2\n",
      "not:1\n",
      "a:2\n",
      "but:1\n",
      "you:1\n",
      "make:1\n"
     ]
    }
   ],
   "source": [
    "str1='can canner can not a can but canner can you make a can'\n",
    "str2=str1.split(' ')\n",
    "print(str2)\n",
    "\n",
    "str3=[]\n",
    "for i in str2:\n",
    "    count=0\n",
    "    for j in str2:\n",
    "        if i==j and i not in str3:\n",
    "            count=count+1\n",
    "    str3.append(i)\n",
    "    if count>0:\n",
    "         print(F\"{i}:{count}\")\n",
    "#dought use blan"
   ]
  },
  {
   "cell_type": "code",
   "execution_count": 43,
   "id": "f500c258-d858-480d-9579-91fa0f6d64e0",
   "metadata": {},
   "outputs": [
    {
     "name": "stdout",
     "output_type": "stream",
     "text": [
      "['can', 'canner', 'can', 'not', 'a', 'can', 'but', 'canner', 'can', 'you', 'make', 'a', 'can'] can is 5 times.\n",
      "canner is 2 times.\n",
      "not is 1 times.\n",
      " a is 2 times.\n",
      "but is 1 times.\n",
      "you is 1 times.\n",
      "make is 1 times.\n"
     ]
    }
   ],
   "source": [
    "str1='can canner can not a can but canner can you make a can'\n",
    "l1=str1.split()\n",
    "print(l1,end=' ')\n",
    "\n",
    "\n",
    "count=0\n",
    "for i in l1:\n",
    "    if i=='can':\n",
    "        count=count+1\n",
    "print(f\"can is {count} times.\")\n",
    "count=0\n",
    "for i in l1:\n",
    "    if i=='canner':\n",
    "        count=count+1\n",
    "print(f\"canner is {count} times.\")\n",
    "count=0\n",
    "for i in l1:\n",
    "    if i=='not':\n",
    "        count=count+1\n",
    "print(f\"not is {count} times.\")\n",
    "count=0\n",
    "for i in l1:\n",
    "    if i=='a':\n",
    "        count=count+1\n",
    "print(f\" a is {count} times.\")\n",
    "count=0\n",
    "for i in l1:\n",
    "    if i=='but':\n",
    "        count=count+1\n",
    "print(f\"but is {count} times.\")\n",
    "count=0\n",
    "for i in l1:\n",
    "    if i=='you':\n",
    "        count=count+1\n",
    "print(f\"you is {count} times.\")\n",
    "count=0\n",
    "for i in l1:\n",
    "    if i=='make':\n",
    "        count=count+1\n",
    "print(f\"make is {count} times.\")"
   ]
  },
  {
   "cell_type": "code",
   "execution_count": 7,
   "id": "09288fcb-9f82-431e-a875-222c725ade0e",
   "metadata": {},
   "outputs": [
    {
     "name": "stdout",
     "output_type": "stream",
     "text": [
      "can 1\n",
      "can 2\n",
      "can 3\n",
      "can 4\n",
      "can 5\n",
      "canner 1\n",
      "canner 2\n",
      "can 1\n",
      "can 2\n",
      "can 3\n",
      "can 4\n",
      "can 5\n",
      "not 1\n",
      "a 1\n",
      "a 2\n",
      "can 1\n",
      "can 2\n",
      "can 3\n",
      "can 4\n",
      "can 5\n",
      "but 1\n",
      "canner 1\n",
      "canner 2\n",
      "can 1\n",
      "can 2\n",
      "can 3\n",
      "can 4\n",
      "can 5\n",
      "you 1\n",
      "make 1\n",
      "a 1\n",
      "a 2\n",
      "can 1\n",
      "can 2\n",
      "can 3\n",
      "can 4\n",
      "can 5\n"
     ]
    }
   ],
   "source": [
    "str1='can canner can not a can but canner can you make a can'\n",
    "l1=str1.split()\n",
    "for i in l1:\n",
    "    count=0\n",
    "    for j in l1:\n",
    "        if i==j:\n",
    "            count=count+1\n",
    "            print(j,count)\n",
    "#print(j,count)        "
   ]
  },
  {
   "cell_type": "code",
   "execution_count": null,
   "id": "be7f933a-1168-4e78-a43a-ec962626387e",
   "metadata": {},
   "outputs": [],
   "source": [
    "#sort it with out short method\n",
    "l2=['apple','cat','dog','ball']\n",
    "for i in l2:\n",
    "    \n",
    "\n",
    "l=[10,20,30,40,50]"
   ]
  },
  {
   "cell_type": "code",
   "execution_count": null,
   "id": "0202f660-fd30-413e-b2c0-ddece7ee5e66",
   "metadata": {},
   "outputs": [],
   "source": [
    "l1=[1,2,3,4,]\n",
    "l2=[10,20,30,40]\n",
    "out=[11,22,33,44]\n",
    "\n",
    "\n",
    "l1=[1,2,3,4,5]\n",
    "l2=[10,20,30,40]\n",
    "out=[11,22,33,44,5]"
   ]
  },
  {
   "cell_type": "code",
   "execution_count": 8,
   "id": "01986854-4a46-41f9-a9af-fde754b58045",
   "metadata": {},
   "outputs": [],
   "source": [
    "str2='hello how are you im good at python in naresh it'\n",
    "l4=str2.split('')\n",
    "#find max\n",
    "# find min \n",
    "# most repeted word\n"
   ]
  },
  {
   "cell_type": "markdown",
   "id": "1e563252-e224-484d-b3e5-09308e6954aa",
   "metadata": {},
   "source": [
    "***list comprehension*"
   ]
  },
  {
   "cell_type": "markdown",
   "id": "712380e1-3acc-489c-8852-73c501665085",
   "metadata": {},
   "source": [
    "# waq ask print square 1 to 5 number\n",
    "\n",
    "\n",
    "**only for loop**\n",
    "# syntex\n"
   ]
  },
  {
   "cell_type": "code",
   "execution_count": 11,
   "id": "4cef99e0-8f6b-48ae-b968-880a1c2c32c3",
   "metadata": {},
   "outputs": [
    {
     "data": {
      "text/plain": [
       "[0, 1, 4, 9, 16, 25]"
      ]
     },
     "execution_count": 11,
     "metadata": {},
     "output_type": "execute_result"
    }
   ],
   "source": [
    "l=[] #empty list inside\n",
    "l=[i*i for i in range(6)]\n",
    "l"
   ]
  },
  {
   "cell_type": "code",
   "execution_count": 17,
   "id": "3a290ffd-f697-4f4f-81ef-8f2972c85b86",
   "metadata": {},
   "outputs": [
    {
     "name": "stdout",
     "output_type": "stream",
     "text": [
      "hello\n",
      "hello\n",
      "hello\n",
      "hello\n",
      "hello\n"
     ]
    }
   ],
   "source": [
    "#wap ask the say five time hello\n",
    "str1='hello'\n",
    "for i in range(5):\n",
    "    s=str1\n",
    "    print(s)"
   ]
  },
  {
   "cell_type": "code",
   "execution_count": 19,
   "id": "61266b2c-0a40-424c-ad18-41b0fcbf6ad3",
   "metadata": {},
   "outputs": [
    {
     "data": {
      "text/plain": [
       "['hello', 'hello', 'hello', 'hello', 'hello']"
      ]
     },
     "execution_count": 19,
     "metadata": {},
     "output_type": "execute_result"
    }
   ],
   "source": [
    "l=['hello' for i in range(5)]\n",
    "l"
   ]
  },
  {
   "cell_type": "markdown",
   "id": "f2597da0-dbf8-4bce-8bc2-8556906fcdf3",
   "metadata": {},
   "source": [
    "l=[<output>_<for loop>_<if condition>]"
   ]
  },
  {
   "cell_type": "code",
   "execution_count": 21,
   "id": "b4d2694d-5388-4eb8-a7c2-ed8f63b01ed4",
   "metadata": {},
   "outputs": [
    {
     "data": {
      "text/plain": [
       "['Chennai', 'Pune']"
      ]
     },
     "execution_count": 21,
     "metadata": {},
     "output_type": "execute_result"
    }
   ],
   "source": [
    "l1=['hdr','blr','Chennai','Pune']\n",
    "out=[]\n",
    "for i in l1:\n",
    "    if i.istitle():\n",
    "        out.append(i)\n",
    "out        "
   ]
  },
  {
   "cell_type": "code",
   "execution_count": 23,
   "id": "4bab710a-c6db-494a-9c35-246b20fd7586",
   "metadata": {},
   "outputs": [
    {
     "data": {
      "text/plain": [
       "['Chennai', 'Pune']"
      ]
     },
     "execution_count": 23,
     "metadata": {},
     "output_type": "execute_result"
    }
   ],
   "source": [
    "l=[i for i in l1 if i.istitle()]\n",
    "l"
   ]
  },
  {
   "cell_type": "code",
   "execution_count": 24,
   "id": "998d2a38-51b9-4766-be17-4961390ca32e",
   "metadata": {},
   "outputs": [
    {
     "data": {
      "text/plain": [
       "['b#r']"
      ]
     },
     "execution_count": 24,
     "metadata": {},
     "output_type": "execute_result"
    }
   ],
   "source": [
    "l3=['HDR','b#r','Chennai','PUNE']\n",
    "out=[]\n",
    "for i in l3:\n",
    "    if '#' in i:\n",
    "        out.append(i)\n",
    "out        "
   ]
  },
  {
   "cell_type": "code",
   "execution_count": 26,
   "id": "0a678d04-6e6d-449b-8695-08beca1e83ea",
   "metadata": {},
   "outputs": [
    {
     "data": {
      "text/plain": [
       "['b#r']"
      ]
     },
     "execution_count": 26,
     "metadata": {},
     "output_type": "execute_result"
    }
   ],
   "source": [
    "l=[i for i in l3 if '#' in i]\n",
    "l"
   ]
  },
  {
   "cell_type": "code",
   "execution_count": 27,
   "id": "a606ea94-359e-4075-8002-627a74c2069e",
   "metadata": {},
   "outputs": [
    {
     "data": {
      "text/plain": [
       "['b#r', 'Chennai']"
      ]
     },
     "execution_count": 27,
     "metadata": {},
     "output_type": "execute_result"
    }
   ],
   "source": [
    "for i in l3:\n",
    "    if len(i)>4:\n",
    "        out.append(i)\n",
    "out        \n",
    "    "
   ]
  },
  {
   "cell_type": "code",
   "execution_count": 29,
   "id": "8c99d79b-2eda-4c22-b583-ef4a2b41fc22",
   "metadata": {},
   "outputs": [
    {
     "data": {
      "text/plain": [
       "['Chennai']"
      ]
     },
     "execution_count": 29,
     "metadata": {},
     "output_type": "execute_result"
    }
   ],
   "source": [
    "l=[i for i in l3 if len(i)>4]\n",
    "ol"
   ]
  },
  {
   "cell_type": "code",
   "execution_count": 40,
   "id": "d698b207-0d9f-42d9-8b24-b13d34967432",
   "metadata": {},
   "outputs": [
    {
     "data": {
      "text/plain": [
       "['odd:1',\n",
       " 'even:2',\n",
       " 'odd:3',\n",
       " 'even:4',\n",
       " 'odd:5',\n",
       " 'even:6',\n",
       " 'odd:7',\n",
       " 'even:8',\n",
       " 'odd:9',\n",
       " 'even:10']"
      ]
     },
     "execution_count": 40,
     "metadata": {},
     "output_type": "execute_result"
    }
   ],
   "source": [
    "out=[]\n",
    "for i in range(1,11):\n",
    "    if i%2==0:\n",
    "        out.append(f\"even:{i}\")\n",
    "    else\n",
    "        out.append(f\"odd:{i}\")\n",
    "out\n",
    "\n",
    "\n"
   ]
  },
  {
   "cell_type": "code",
   "execution_count": 43,
   "id": "783cf610-c36d-439e-9ed9-aa7c7fe6b318",
   "metadata": {},
   "outputs": [
    {
     "data": {
      "text/plain": [
       "['odd:1',\n",
       " 'even:2',\n",
       " 'odd:3',\n",
       " 'even:4',\n",
       " 'odd:5',\n",
       " 'even:6',\n",
       " 'odd:7',\n",
       " 'even:8',\n",
       " 'odd:9',\n",
       " 'even:10']"
      ]
     },
     "execution_count": 43,
     "metadata": {},
     "output_type": "execute_result"
    }
   ],
   "source": [
    "l=[f\"even:{i}\" if i%2==0 else f\"odd:{i}\" for i in range(1,11) ]\n",
    "l"
   ]
  },
  {
   "cell_type": "code",
   "execution_count": 44,
   "id": "4763650e-1917-4811-8298-219669a9d8f3",
   "metadata": {},
   "outputs": [
    {
     "ename": "SyntaxError",
     "evalue": "invalid syntax (1045871322.py, line 1)",
     "output_type": "error",
     "traceback": [
      "\u001b[1;36m  Cell \u001b[1;32mIn[44], line 1\u001b[1;36m\u001b[0m\n\u001b[1;33m    $count$\u001b[0m\n\u001b[1;37m    ^\u001b[0m\n\u001b[1;31mSyntaxError\u001b[0m\u001b[1;31m:\u001b[0m invalid syntax\n"
     ]
    }
   ],
   "source": [
    "$count$"
   ]
  },
  {
   "cell_type": "code",
   "execution_count": 51,
   "id": "670f48fb-548f-43fb-905a-57d3a7782aa2",
   "metadata": {},
   "outputs": [
    {
     "name": "stdout",
     "output_type": "stream",
     "text": [
      "can 5\n",
      "canner 5\n",
      "can 5\n",
      "not 5\n",
      "a 5\n",
      "can 5\n",
      "but 5\n",
      "canner 5\n",
      "can 5\n",
      "you 5\n",
      "make 5\n",
      "a 5\n",
      "can 5\n"
     ]
    }
   ],
   "source": [
    "str1='can canner can not a can but canner can you make a can'\n",
    "l1=str1.split()\n",
    "l2=[]\n",
    "for i in l1:\n",
    "    for j in l1:\n",
    "        if i==j in l2:\n",
    "            l2.count(j)\n",
    "    l2.append(i)\n",
    "    if count>0:\n",
    "        print(i,count)\n",
    "            \n",
    "        "
   ]
  },
  {
   "cell_type": "code",
   "execution_count": 54,
   "id": "60439d37-a7b2-41b6-abec-00dc7736ce3f",
   "metadata": {},
   "outputs": [
    {
     "name": "stdout",
     "output_type": "stream",
     "text": [
      "can 5\n",
      "canner 2\n",
      "not 1\n",
      "a 2\n",
      "but 1\n",
      "you 1\n",
      "make 1\n"
     ]
    }
   ],
   "source": [
    "str1='can canner can not a can but canner can you make a can'\n",
    "l1=str1.split()\n",
    "l2=[]\n",
    "for i in l1:\n",
    "    if i not in l2:\n",
    "        print(i,l1.count(i))\n",
    "        l2.append(i)"
   ]
  },
  {
   "cell_type": "code",
   "execution_count": 57,
   "id": "2f259e21-d5af-4d49-a0fa-ecda576767a5",
   "metadata": {},
   "outputs": [
    {
     "name": "stdout",
     "output_type": "stream",
     "text": [
      "can 5\n",
      "canner 2\n",
      "not 1\n",
      "a 2\n",
      "but 1\n",
      "you 1\n",
      "make 1\n"
     ]
    }
   ],
   "source": [
    "str1='can canner can not a can but canner can you make a can'\n",
    "l1=str1.split()\n",
    "l2=[]\n",
    "for i in l1:\n",
    "    if i not in l2:\n",
    "        print(i,l1.count(i))\n",
    "        l2.append(i)"
   ]
  },
  {
   "cell_type": "markdown",
   "id": "bb67ce6d-5b80-48b5-a7ce-1049636fabbd",
   "metadata": {},
   "source": [
    "# extend"
   ]
  },
  {
   "cell_type": "code",
   "execution_count": 29,
   "id": "7648e2f6-27d6-48b4-a61d-0274ba8ad7d4",
   "metadata": {},
   "outputs": [
    {
     "data": {
      "text/plain": [
       "[1, 2, 3, 4, 'a', 'b', 'c']"
      ]
     },
     "execution_count": 29,
     "metadata": {},
     "output_type": "execute_result"
    }
   ],
   "source": [
    "l1=[1,2,3,4]\n",
    "l2=['a','b','c']\n",
    "l1+l2\n",
    "#concatination"
   ]
  },
  {
   "cell_type": "code",
   "execution_count": 37,
   "id": "b521f1b1-6a6b-4607-8881-1ee93bc6a498",
   "metadata": {},
   "outputs": [],
   "source": [
    "l1=l1.extend(l2)\n",
    "l1\n",
    "#extend"
   ]
  },
  {
   "cell_type": "code",
   "execution_count": null,
   "id": "f0124030-62bb-427c-b8dd-aa471932dddd",
   "metadata": {},
   "outputs": [],
   "source": [
    "- extend will over write the output\n",
    "- "
   ]
  },
  {
   "cell_type": "code",
   "execution_count": 36,
   "id": "5f5647d8-af8b-4216-8365-d944ff6fb101",
   "metadata": {},
   "outputs": [
    {
     "data": {
      "text/plain": [
       "['a', 'b', 'c', 1, 2, 3, 4, [...]]"
      ]
     },
     "execution_count": 36,
     "metadata": {},
     "output_type": "execute_result"
    }
   ],
   "source": [
    "l2.extend(l1)\n",
    "l2"
   ]
  },
  {
   "cell_type": "code",
   "execution_count": 35,
   "id": "e3681ed9-3916-43dc-959a-0cc900205cc3",
   "metadata": {},
   "outputs": [
    {
     "data": {
      "text/plain": [
       "[1, 2, 3, 4, ['a', 'b', 'c']]"
      ]
     },
     "execution_count": 35,
     "metadata": {},
     "output_type": "execute_result"
    }
   ],
   "source": [
    "l1.append(l2)\n",
    "l1\n"
   ]
  },
  {
   "cell_type": "markdown",
   "id": "ee01d414-1bc1-4cee-bca4-c29e84a4c1d1",
   "metadata": {},
   "source": [
    "# insert"
   ]
  },
  {
   "cell_type": "code",
   "execution_count": 6,
   "id": "2279ff78-2942-435e-95c0-39b009c00425",
   "metadata": {},
   "outputs": [
    {
     "data": {
      "text/plain": [
       "[1, 2, 3, 4, 100]"
      ]
     },
     "execution_count": 6,
     "metadata": {},
     "output_type": "execute_result"
    }
   ],
   "source": [
    "list1=[1,2,3,4]\n",
    "list1.append(100)\n",
    "list1"
   ]
  },
  {
   "cell_type": "code",
   "execution_count": 10,
   "id": "99046651-3d3e-4118-8fe0-5e17c62b13b3",
   "metadata": {},
   "outputs": [
    {
     "data": {
      "text/plain": [
       "[1, 2, 10, 3, 4, 100, 2, 2]"
      ]
     },
     "execution_count": 10,
     "metadata": {},
     "output_type": "execute_result"
    }
   ],
   "source": [
    "list1.insert(2,10)\n",
    "list1"
   ]
  },
  {
   "cell_type": "code",
   "execution_count": 13,
   "id": "72dcaf42-85a4-4187-8090-6e72778724b1",
   "metadata": {},
   "outputs": [
    {
     "data": {
      "text/plain": [
       "[1, 4, 7, 10, 13, 16, 19]"
      ]
     },
     "execution_count": 13,
     "metadata": {},
     "output_type": "execute_result"
    }
   ],
   "source": [
    "l=[i for i in range(1,20,3)] \n",
    "l"
   ]
  },
  {
   "cell_type": "code",
   "execution_count": 17,
   "id": "e1faf1ed-328c-451a-8ac4-325fd698c1f8",
   "metadata": {},
   "outputs": [],
   "source": [
    "index=l.index(10)\n"
   ]
  },
  {
   "cell_type": "code",
   "execution_count": 41,
   "id": "43cb9693-76a2-4a48-be07-1d068f88aa75",
   "metadata": {},
   "outputs": [
    {
     "data": {
      "text/plain": [
       "[1, 4, 7, 10, 'apple', 13, 16, 19]"
      ]
     },
     "execution_count": 41,
     "metadata": {},
     "output_type": "execute_result"
    }
   ],
   "source": [
    "l=[i for i in range(1,20,3)] \n",
    "index=l.index(10)\n",
    "l.insert(index+1,'apple')\n",
    "l              #dought"
   ]
  },
  {
   "cell_type": "code",
   "execution_count": 39,
   "id": "fc789231-b99c-46de-ab1b-36f7f3c001ad",
   "metadata": {},
   "outputs": [
    {
     "data": {
      "text/plain": [
       "['bba', 10, 20, 'app', 'apple', 'apple', 'apple']"
      ]
     },
     "execution_count": 39,
     "metadata": {},
     "output_type": "execute_result"
    }
   ],
   "source": [
    "#pop\n",
    "l.pop()\n",
    "l\n",
    "#pop will remove the last value \n",
    "# inside pop  we have index argument\n",
    "#by defult index =-1,-1 is last\n",
    "#pop will remove the value, the output wiil overwrite\n",
    "\n"
   ]
  },
  {
   "cell_type": "code",
   "execution_count": 21,
   "id": "6844f660-9a59-42b7-9d90-641f9812356a",
   "metadata": {},
   "outputs": [
    {
     "data": {
      "text/plain": [
       "[1, 4, 7, 10, 'apple', 'apple', 13, 16]"
      ]
     },
     "execution_count": 21,
     "metadata": {},
     "output_type": "execute_result"
    }
   ],
   "source": [
    "l"
   ]
  },
  {
   "cell_type": "code",
   "execution_count": 25,
   "id": "be553fe8-cd67-4613-86b7-ed4dcd59c42f",
   "metadata": {},
   "outputs": [
    {
     "data": {
      "text/plain": [
       "[1, 4, 7, 10, 13, 16]"
      ]
     },
     "execution_count": 25,
     "metadata": {},
     "output_type": "execute_result"
    }
   ],
   "source": [
    "index=l.index(10)\n",
    "l.pop(index+1)\n",
    "l"
   ]
  },
  {
   "cell_type": "code",
   "execution_count": 31,
   "id": "7a1007a1-5396-4973-9cfb-370538054e18",
   "metadata": {},
   "outputs": [
    {
     "data": {
      "text/plain": [
       "['bba', 10, 20, 'app']"
      ]
     },
     "execution_count": 31,
     "metadata": {},
     "output_type": "execute_result"
    }
   ],
   "source": [
    "#remove\n",
    "\n",
    "l=['app','bba',10,20,'app']\n",
    "l.remove('app')\n",
    "l"
   ]
  },
  {
   "cell_type": "code",
   "execution_count": null,
   "id": "5ec42550-8651-4ef5-9bde-29cf220159b9",
   "metadata": {},
   "outputs": [],
   "source": []
  }
 ],
 "metadata": {
  "kernelspec": {
   "display_name": "Python 3 (ipykernel)",
   "language": "python",
   "name": "python3"
  },
  "language_info": {
   "codemirror_mode": {
    "name": "ipython",
    "version": 3
   },
   "file_extension": ".py",
   "mimetype": "text/x-python",
   "name": "python",
   "nbconvert_exporter": "python",
   "pygments_lexer": "ipython3",
   "version": "3.11.7"
  }
 },
 "nbformat": 4,
 "nbformat_minor": 5
}
