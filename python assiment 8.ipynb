{
 "cells": [
  {
   "cell_type": "markdown",
   "id": "06cad187-6aad-4c02-be5b-7675e130dd8c",
   "metadata": {},
   "source": [
    "**Q1) Print the postive index of each letter**"
   ]
  },
  {
   "cell_type": "code",
   "execution_count": 71,
   "id": "04df7f9f-d800-4a90-9fce-16a5d8b5a931",
   "metadata": {},
   "outputs": [
    {
     "name": "stdout",
     "output_type": "stream",
     "text": [
      "the positive index of h is 0.\n",
      "the positive index of e is 1.\n",
      "the positive index of l is 2.\n",
      "the positive index of l is 3.\n",
      "the positive index of o is 4.\n",
      "the positive index of w is 5.\n",
      "the positive index of   is 6.\n",
      "the positive index of h is 7.\n",
      "the positive index of o is 8.\n",
      "the positive index of w is 9.\n",
      "the positive index of   is 10.\n",
      "the positive index of a is 11.\n",
      "the positive index of r is 12.\n",
      "the positive index of e is 13.\n",
      "the positive index of   is 14.\n",
      "the positive index of y is 15.\n",
      "the positive index of o is 16.\n",
      "the positive index of u is 17.\n",
      "the positive index of . is 18.\n"
     ]
    }
   ],
   "source": [
    "str1=\"hellow how are you.\"\n",
    "for i in range(len(str1)):\n",
    "    print(f\"the positive index of {str1[i]} is {i}.\" )"
   ]
  },
  {
   "cell_type": "markdown",
   "id": "18e9b429-4a06-4aaf-b057-e6c867f88c7f",
   "metadata": {},
   "source": [
    "**Q2) Print the negative index of each letter**"
   ]
  },
  {
   "cell_type": "code",
   "execution_count": 80,
   "id": "ffa728c4-e315-49d5-9ca7-02f801d2c7fc",
   "metadata": {},
   "outputs": [
    {
     "name": "stdout",
     "output_type": "stream",
     "text": [
      "the negative index of h is -19\n",
      "the negative index of e is -18\n",
      "the negative index of l is -17\n",
      "the negative index of l is -16\n",
      "the negative index of o is -15\n",
      "the negative index of w is -14\n",
      "the negative index of   is -13\n",
      "the negative index of h is -12\n",
      "the negative index of o is -11\n",
      "the negative index of w is -10\n",
      "the negative index of   is -9\n",
      "the negative index of a is -8\n",
      "the negative index of r is -7\n",
      "the negative index of e is -6\n",
      "the negative index of   is -5\n",
      "the negative index of y is -4\n",
      "the negative index of o is -3\n",
      "the negative index of u is -2\n",
      "the negative index of . is -1\n"
     ]
    }
   ],
   "source": [
    "str1=\"hellow how are you.\"\n",
    "for i in range(len(str1)):\n",
    "    print(f\"the negative index of {str1[i]} is {i-len(str1)}\")\n",
    "    "
   ]
  },
  {
   "cell_type": "markdown",
   "id": "fe73239b-2a74-4878-8952-adf36599a9d2",
   "metadata": {},
   "source": [
    " **Q3) Print the postive and negative index of each letter**"
   ]
  },
  {
   "cell_type": "code",
   "execution_count": 81,
   "id": "311cf0b3-f295-4b3c-9071-e68c9f79b678",
   "metadata": {},
   "outputs": [
    {
     "name": "stdout",
     "output_type": "stream",
     "text": [
      "the positive index of h is 0. and the negative index of h is -19\n",
      "the positive index of e is 1. and the negative index of e is -18\n",
      "the positive index of l is 2. and the negative index of l is -17\n",
      "the positive index of l is 3. and the negative index of l is -16\n",
      "the positive index of o is 4. and the negative index of o is -15\n",
      "the positive index of w is 5. and the negative index of w is -14\n",
      "the positive index of   is 6. and the negative index of   is -13\n",
      "the positive index of h is 7. and the negative index of h is -12\n",
      "the positive index of o is 8. and the negative index of o is -11\n",
      "the positive index of w is 9. and the negative index of w is -10\n",
      "the positive index of   is 10. and the negative index of   is -9\n",
      "the positive index of a is 11. and the negative index of a is -8\n",
      "the positive index of r is 12. and the negative index of r is -7\n",
      "the positive index of e is 13. and the negative index of e is -6\n",
      "the positive index of   is 14. and the negative index of   is -5\n",
      "the positive index of y is 15. and the negative index of y is -4\n",
      "the positive index of o is 16. and the negative index of o is -3\n",
      "the positive index of u is 17. and the negative index of u is -2\n",
      "the positive index of . is 18. and the negative index of . is -1\n"
     ]
    }
   ],
   "source": [
    "str1=\"hellow how are you.\"\n",
    "for i in range(len(str1)):\n",
    "    print(f\"the positive index of {str1[i]} is {i}. and the negative index of {str1[i]} is {i-len(str1)}\")"
   ]
  },
  {
   "cell_type": "markdown",
   "id": "bde7f23d-7ac7-47af-8e05-05d009aebb18",
   "metadata": {},
   "source": [
    "**Q4) Wap ask to print the index of all 'a'  in a given string.**\n"
   ]
  },
  {
   "cell_type": "code",
   "execution_count": 84,
   "id": "e04f5f36-11db-43e5-a429-4383504ddc78",
   "metadata": {},
   "outputs": [
    {
     "name": "stdout",
     "output_type": "stream",
     "text": [
      "the index of a is 6.\n",
      "the index of a is 8.\n",
      "the index of a is 17.\n"
     ]
    }
   ],
   "source": [
    "str2=\"hello anand, how are you.\"\n",
    "for i in range(len(str2)):\n",
    "    if str2[i]=='a':\n",
    "        print(f\"the index of {str2[i]} is {i}.\")"
   ]
  },
  {
   "cell_type": "markdown",
   "id": "d29c0ebf-9266-4675-906e-b7d7387ef312",
   "metadata": {},
   "source": [
    "**Q5) Wap ask to print the number of 'a's  in a given string**"
   ]
  },
  {
   "cell_type": "code",
   "execution_count": 86,
   "id": "910d6246-46fa-458d-bcd8-9615b919da80",
   "metadata": {},
   "outputs": [
    {
     "name": "stdout",
     "output_type": "stream",
     "text": [
      "the total number of 3.\n"
     ]
    }
   ],
   "source": [
    "str2=\"hello anand, how are you?\"\n",
    "count=0\n",
    "for i in str2:\n",
    "    if i=='a':\n",
    "        #print(i)\n",
    "        count=count+1\n",
    "print(f\"the total number of {count}.\")"
   ]
  },
  {
   "cell_type": "markdown",
   "id": "c6005077-995e-4d7f-86cc-7c8a075df229",
   "metadata": {},
   "source": [
    "**Q6) Wap ask to print the sum of the index of all 'a'  in a given string**"
   ]
  },
  {
   "cell_type": "code",
   "execution_count": 87,
   "id": "6466be13-d344-4309-bcd6-be5fc811258e",
   "metadata": {},
   "outputs": [
    {
     "name": "stdout",
     "output_type": "stream",
     "text": [
      "a\n",
      "a\n",
      "a\n",
      "the sum of a in string is 3\n"
     ]
    }
   ],
   "source": [
    "summ=0\n",
    "str2=\"hello anand, how are you?\"\n",
    "for i in str2:\n",
    "    if i=='a':\n",
    "        print(i)\n",
    "        summ=summ+1\n",
    "print(f\"the sum of a in string is {summ}\")\n",
    "        "
   ]
  },
  {
   "cell_type": "markdown",
   "id": "04ba57e2-7465-4515-8d51-4c737dcc8acc",
   "metadata": {},
   "source": [
    "**Q7) Wap to find the vowels in a given string**"
   ]
  },
  {
   "cell_type": "code",
   "execution_count": 91,
   "id": "9ee2f221-3028-4600-906c-0b03b1afe28c",
   "metadata": {},
   "outputs": [
    {
     "name": "stdout",
     "output_type": "stream",
     "text": [
      "e o a a o a e o u "
     ]
    }
   ],
   "source": [
    "str2=\"hello anand, how are you?\"\n",
    "for i in range(len(str2)):\n",
    "    if str2[i] in \"aeiou\":\n",
    "        print(str2[i],end=' ')    "
   ]
  },
  {
   "cell_type": "markdown",
   "id": "b005d508-17d5-45dc-ac8d-295e45783eeb",
   "metadata": {},
   "source": [
    "**Q8) wap to find the number of vowels in a given string**"
   ]
  },
  {
   "cell_type": "code",
   "execution_count": 95,
   "id": "aebce52c-36f7-4cf2-92d5-8c3a43615942",
   "metadata": {},
   "outputs": [
    {
     "name": "stdout",
     "output_type": "stream",
     "text": [
      "the total number of vowels is 9.\n"
     ]
    }
   ],
   "source": [
    "str2=\"hello anand, how are you?\"\n",
    "count=0\n",
    "for i in range(len(str2)):\n",
    "    if str2[i] in \"aeiou\":\n",
    "        count=count+1\n",
    "print(f\"the total number of vowels is {count}.\")        "
   ]
  },
  {
   "cell_type": "markdown",
   "id": "2045f8ac-0a5a-4236-963e-029cff97aea4",
   "metadata": {},
   "source": [
    "**Q9) wap to find the indexes of vowels in a given string**"
   ]
  },
  {
   "cell_type": "code",
   "execution_count": 94,
   "id": "2805e160-2246-4021-873b-dfb69e2a4eb3",
   "metadata": {},
   "outputs": [
    {
     "name": "stdout",
     "output_type": "stream",
     "text": [
      " the index of vowel e is 1.\n",
      " the index of vowel o is 4.\n",
      " the index of vowel a is 6.\n",
      " the index of vowel a is 8.\n",
      " the index of vowel o is 14.\n",
      " the index of vowel a is 17.\n",
      " the index of vowel e is 19.\n",
      " the index of vowel o is 22.\n",
      " the index of vowel u is 23.\n"
     ]
    }
   ],
   "source": [
    "str2=\"hello anand, how are you?\"\n",
    "for i in range(len(str2)):\n",
    "    if str2[i] in \"aeiou\":\n",
    "        print(f\" the index of vowel {str2[i]} is {i}.\")"
   ]
  },
  {
   "cell_type": "markdown",
   "id": "be294650-84be-4aa4-843d-2bd24cac6c44",
   "metadata": {},
   "source": [
    " **Q10) wap to find the sum of the indexes of vowels in a given string**"
   ]
  },
  {
   "cell_type": "code",
   "execution_count": 96,
   "id": "045ba3a3-ecc9-4ff7-b8ea-d3245069fe60",
   "metadata": {},
   "outputs": [
    {
     "name": "stdout",
     "output_type": "stream",
     "text": [
      " the sum of vowel is 9.\n"
     ]
    }
   ],
   "source": [
    "str2=\"hello anand, how are you?\"\n",
    "summ=0\n",
    "for i in range(len(str2)):\n",
    "    if str2[i] in \"aeiou\":\n",
    "        #print(i,str2[i])\n",
    "        summ=summ+1\n",
    "print(f\" the sum of vowel is {summ}.\")"
   ]
  },
  {
   "cell_type": "markdown",
   "id": "5135f8e4-9d4b-4aa8-9600-b7c77679edf0",
   "metadata": {},
   "source": [
    "**Q11) wap to find the unique vowels in a given string**"
   ]
  },
  {
   "cell_type": "code",
   "execution_count": 113,
   "id": "2f26332b-d205-4dbf-9cab-86462a044240",
   "metadata": {},
   "outputs": [],
   "source": [
    "str2=\"hello anand, how are you?\"\n",
    "vowel = \"aeoui\"\n",
    "unique = set()\n",
    "for i in str2:\n",
    "    for j in vowel:\n",
    "        if j == i:\n",
    "            unique.add(j)"
   ]
  },
  {
   "cell_type": "code",
   "execution_count": 114,
   "id": "eb5f40bf-0b69-47d7-bc2a-d7b01b6b9283",
   "metadata": {},
   "outputs": [
    {
     "data": {
      "text/plain": [
       "{'a', 'e', 'o', 'u'}"
      ]
     },
     "execution_count": 114,
     "metadata": {},
     "output_type": "execute_result"
    }
   ],
   "source": [
    "unique"
   ]
  }
 ],
 "metadata": {
  "kernelspec": {
   "display_name": "Python 3 (ipykernel)",
   "language": "python",
   "name": "python3"
  },
  "language_info": {
   "codemirror_mode": {
    "name": "ipython",
    "version": 3
   },
   "file_extension": ".py",
   "mimetype": "text/x-python",
   "name": "python",
   "nbconvert_exporter": "python",
   "pygments_lexer": "ipython3",
   "version": "3.11.7"
  }
 },
 "nbformat": 4,
 "nbformat_minor": 5
}
