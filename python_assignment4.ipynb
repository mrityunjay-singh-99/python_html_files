{
 "cells": [
  {
   "cell_type": "markdown",
   "id": "4e39a120-9817-4cd8-81d8-d2a578af3052",
   "metadata": {},
   "source": [
    "**Q1) Create a function read three numbers find the average**"
   ]
  },
  {
   "cell_type": "code",
   "execution_count": 3,
   "id": "0f756a0c-9f50-4906-a319-1bbaa5c5c5bb",
   "metadata": {},
   "outputs": [
    {
     "name": "stdout",
     "output_type": "stream",
     "text": [
      "51.67\n"
     ]
    }
   ],
   "source": [
    "def average(num1,num2,num3):\n",
    "    avg=round((num1+num2+num3)/3,2)\n",
    "    print(avg)\n",
    "average(40,70,45)    "
   ]
  },
  {
   "cell_type": "markdown",
   "id": "a42f9329-3d0b-49d7-b311-784dc9158cb5",
   "metadata": {},
   "source": [
    "**Q2) Create a function ask the user enter the bill amount, enter the tip per ,calculate total bill pay**"
   ]
  },
  {
   "cell_type": "code",
   "execution_count": 5,
   "id": "66db60eb-592a-4288-a4f9-a9825cea547d",
   "metadata": {},
   "outputs": [
    {
     "name": "stdout",
     "output_type": "stream",
     "text": [
      "1100.0\n"
     ]
    }
   ],
   "source": [
    "def billing(price,tip):\n",
    "    tip_cal=price*tip/100\n",
    "    bill_amount=price+tip_cal\n",
    "    print(bill_amount)\n",
    "billing(1000,10)    "
   ]
  },
  {
   "cell_type": "markdown",
   "id": "0bab4c1a-e74b-4acc-8514-0ca80b9af61d",
   "metadata": {},
   "source": [
    "**Q3) Create a function ask the user enter enter radius/n\n",
    "     calculate the area of the circle**"
   ]
  },
  {
   "cell_type": "code",
   "execution_count": 8,
   "id": "8d63e9b6-c9d3-4ef8-9aa2-7470b2779aba",
   "metadata": {},
   "outputs": [
    {
     "name": "stdout",
     "output_type": "stream",
     "text": [
      "7542.963961269093\n"
     ]
    }
   ],
   "source": [
    "import math\n",
    "pi=math.pi\n",
    "def cir_area(radius):\n",
    "     cir_area=pi*radius*radius\n",
    "     print(cir_area)\n",
    "cir_area(49)"
   ]
  },
  {
   "cell_type": "markdown",
   "id": "08a17bf5-5232-4269-a443-72afc497bab5",
   "metadata": {},
   "source": [
    "**Q4)Create a function ask the user enter breadth and height\n",
    "    calculate area of the traingle**"
   ]
  },
  {
   "cell_type": "code",
   "execution_count": 9,
   "id": "a4261151-41d9-4064-86ee-7a71bad8de11",
   "metadata": {},
   "outputs": [
    {
     "name": "stdout",
     "output_type": "stream",
     "text": [
      "300.0\n"
     ]
    }
   ],
   "source": [
    "def tri_area(lenth,brth):\n",
    "      area=0.5*lenth*brth\n",
    "      print(area)\n",
    "tri_area(20,30)    "
   ]
  },
  {
   "cell_type": "markdown",
   "id": "dc27be1a-3204-49a2-b25b-0f41f9d24067",
   "metadata": {},
   "source": [
    "**Q5) Create a function ask the user enter a number find it is even or odd**"
   ]
  },
  {
   "cell_type": "code",
   "execution_count": 12,
   "id": "9464dbd0-e99f-44b8-b235-b015466e9a65",
   "metadata": {},
   "outputs": [
    {
     "name": "stdout",
     "output_type": "stream",
     "text": [
      "it is odd.\n"
     ]
    }
   ],
   "source": [
    "def odd_even(num):\n",
    "    if num%2==0:\n",
    "        print(\"it is even.\")\n",
    "    else:\n",
    "        print(\"it is odd.\")\n",
    "odd_even(89)        "
   ]
  },
  {
   "cell_type": "markdown",
   "id": "fbe1c7d5-8a8d-4d26-9ffe-d5232151134c",
   "metadata": {},
   "source": [
    "**Q6) create a function ask the user enter number find it is postive or ngeative or zero**"
   ]
  },
  {
   "cell_type": "code",
   "execution_count": 11,
   "id": "85423773-9142-484e-882e-20dc6e942f2c",
   "metadata": {},
   "outputs": [
    {
     "name": "stdout",
     "output_type": "stream",
     "text": [
      "positive\n"
     ]
    }
   ],
   "source": [
    "def positive_negative(num):\n",
    "    if num>0:\n",
    "        print(\"positive\")\n",
    "    elif num<0:\n",
    "        print(\"negative\")\n",
    "    else:\n",
    "        print(\"zero\")\n",
    "positive_negative(87)        "
   ]
  },
  {
   "cell_type": "markdown",
   "id": "e60f5fb3-f09a-4a0b-97bf-35f6bbe0773f",
   "metadata": {},
   "source": [
    "**Q7) cratae a function ask the user enter threes numbers find the greatet number**"
   ]
  },
  {
   "cell_type": "code",
   "execution_count": 13,
   "id": "5e6aced2-b3a9-471a-9d57-0bb18e60edb5",
   "metadata": {},
   "outputs": [
    {
     "name": "stdout",
     "output_type": "stream",
     "text": [
      "9 is greastest.\n"
     ]
    }
   ],
   "source": [
    "def greatest(num1,num2,num3):\n",
    "    if num1>num2 and num1>num3:\n",
    "        print(f\"{num1} is greatest.\")\n",
    "    elif num2>num3:\n",
    "        print(f\"{num2} is greatest.\")\n",
    "    else:\n",
    "        print(f\"{num3} is greastest.\")\n",
    "greatest(6,7,9)        "
   ]
  }
 ],
 "metadata": {
  "kernelspec": {
   "display_name": "Python 3 (ipykernel)",
   "language": "python",
   "name": "python3"
  },
  "language_info": {
   "codemirror_mode": {
    "name": "ipython",
    "version": 3
   },
   "file_extension": ".py",
   "mimetype": "text/x-python",
   "name": "python",
   "nbconvert_exporter": "python",
   "pygments_lexer": "ipython3",
   "version": "3.11.7"
  }
 },
 "nbformat": 4,
 "nbformat_minor": 5
}
