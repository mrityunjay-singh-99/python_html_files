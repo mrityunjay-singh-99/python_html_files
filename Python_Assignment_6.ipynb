{
 "cells": [
  {
   "cell_type": "markdown",
   "id": "6e547d75-9910-4b2c-9c06-06c1abe65071",
   "metadata": {},
   "source": [
    "**Q1) Create a function read three numbers find the average**\n"
   ]
  },
  {
   "cell_type": "code",
   "execution_count": 9,
   "id": "6c7a54ae-dcd9-44a5-9310-5573b212bad6",
   "metadata": {},
   "outputs": [
    {
     "name": "stdout",
     "output_type": "stream",
     "text": [
      "30.0\n"
     ]
    }
   ],
   "source": [
    "def average(num1,num2,num3):\n",
    "    avg=(num1+num2+num3)/3\n",
    "    print(avg)\n",
    "average(20,30,40)    "
   ]
  },
  {
   "cell_type": "markdown",
   "id": "0dc98eb1-c2a9-447d-8e24-38f371b38532",
   "metadata": {},
   "source": [
    "**Q2) Create a function ask the user enter the bill amount\n",
    "      - enter the tip per\n",
    "      - calculate total bill pay**\n"
   ]
  },
  {
   "cell_type": "code",
   "execution_count": 13,
   "id": "4214d3fe-f004-408a-a999-6cdd9cfca689",
   "metadata": {},
   "outputs": [
    {
     "name": "stdin",
     "output_type": "stream",
     "text": [
      "Enter the bill: 2000\n",
      "Enter the tip presentge: 20\n"
     ]
    },
    {
     "name": "stdout",
     "output_type": "stream",
     "text": [
      "the calculation of total:2400.0\n"
     ]
    }
   ],
   "source": [
    "def billing():\n",
    "    bill=eval(input(\"Enter the bill:\"))\n",
    "    tip=eval(input(\"Enter the tip presentge:\"))\n",
    "    total_bill=bill+bill*tip/100\n",
    "    print(f\"the calculation of total:{total_bill}\")\n",
    "billing()    "
   ]
  },
  {
   "cell_type": "markdown",
   "id": "32de9320-163a-4916-a3d4-fea84527bbca",
   "metadata": {},
   "source": [
    "**Q3) Create a function ask the user enter enter radius\n",
    "     - calculate the area of the circle**\n",
    "\n"
   ]
  },
  {
   "cell_type": "code",
   "execution_count": 15,
   "id": "37e25840-cf54-4be0-9708-06b6938d6728",
   "metadata": {},
   "outputs": [
    {
     "name": "stdin",
     "output_type": "stream",
     "text": [
      "enter the radius: 7\n"
     ]
    },
    {
     "name": "stdout",
     "output_type": "stream",
     "text": [
      "the circle area is:153.93804002589985 which radius is:7\n"
     ]
    }
   ],
   "source": [
    "import math\n",
    "pi=math.pi\n",
    "def cir_area():\n",
    "    radius=eval(input(\"enter the radius:\"))\n",
    "    area=pi*radius*radius\n",
    "    print(f\"the circle area is:{area} which radius is:{radius}\")\n",
    "cir_area()    "
   ]
  },
  {
   "cell_type": "markdown",
   "id": "2bae6ddd-dd39-4edf-8a29-6b498ba34d0d",
   "metadata": {},
   "source": [
    "**Q4) Create a function ask the user enter breadth and height\n",
    "    - calculate area of the traingle**\n",
    "\n"
   ]
  },
  {
   "cell_type": "code",
   "execution_count": 17,
   "id": "1cf6219b-fdd7-41a6-b0a7-8bb5fc75214c",
   "metadata": {},
   "outputs": [
    {
     "name": "stdin",
     "output_type": "stream",
     "text": [
      "Enter the height 25\n",
      "Enter the breath 35\n"
     ]
    },
    {
     "name": "stdout",
     "output_type": "stream",
     "text": [
      "the area of triangle is:30.0\n"
     ]
    }
   ],
   "source": [
    "def tri_area():\n",
    "    height=eval(input(\"Enter the height\"))\n",
    "    breath=eval(input(\"Enter the breath\"))\n",
    "    area=(height+breath)/2\n",
    "    print(f\"the area of triangle is:{area}\")\n",
    "tri_area()    "
   ]
  },
  {
   "cell_type": "markdown",
   "id": "7d31e55f-c01b-421a-a1cc-fd2d95623a75",
   "metadata": {},
   "source": [
    "**Q5) Create a function ask the user enter a number find it is even or odd**\n",
    "\n"
   ]
  },
  {
   "cell_type": "code",
   "execution_count": 19,
   "id": "5c7226a8-e1a4-47c9-81b5-7a9c55e448d9",
   "metadata": {},
   "outputs": [
    {
     "name": "stdin",
     "output_type": "stream",
     "text": [
      "Enter the number: 299\n"
     ]
    },
    {
     "name": "stdout",
     "output_type": "stream",
     "text": [
      "it is odd number.\n"
     ]
    }
   ],
   "source": [
    "def odd_even():\n",
    "    num=eval(input(\"Enter the number:\"))\n",
    "    if num%2==0:\n",
    "        print(f\"it is even number.\")\n",
    "    else:\n",
    "        print(f\"it is odd number.\")\n",
    "odd_even()        "
   ]
  },
  {
   "cell_type": "markdown",
   "id": "5c5d25e0-4056-4cc6-8d8d-23a88d79f156",
   "metadata": {},
   "source": [
    "**Q6) create a function ask the user enter number find it is postive or ngeative or zero**\n",
    "\n"
   ]
  },
  {
   "cell_type": "code",
   "execution_count": 21,
   "id": "eb805f0f-d257-4ca4-80cd-8b0560c25cb1",
   "metadata": {},
   "outputs": [
    {
     "name": "stdin",
     "output_type": "stream",
     "text": [
      "Enter the number: 4\n"
     ]
    },
    {
     "name": "stdout",
     "output_type": "stream",
     "text": [
      "it is positive number.\n"
     ]
    }
   ],
   "source": [
    "def positive_negative():\n",
    "    num=eval(input(\"Enter the number:\"))\n",
    "    if num>0:\n",
    "        print(\"it is positive number.\")\n",
    "    elif num<0:\n",
    "        print(\"it is neagitive number.\")\n",
    "    else:\n",
    "        print(\"it is zero.\")\n",
    "positive_negative()        "
   ]
  },
  {
   "cell_type": "markdown",
   "id": "3ef5d6dd-715c-4ce5-9d73-11258987d2b7",
   "metadata": {},
   "source": [
    "**Q7) cratae a function ask the user enter threes numbers find the greatet number**"
   ]
  },
  {
   "cell_type": "code",
   "execution_count": 22,
   "id": "44e47ce9-f720-49bc-84b9-f390dfad4c50",
   "metadata": {},
   "outputs": [
    {
     "name": "stdin",
     "output_type": "stream",
     "text": [
      "Enter the number1: 4\n",
      "Enter the number2: 5\n",
      "Enter the number3: 6\n"
     ]
    },
    {
     "name": "stdout",
     "output_type": "stream",
     "text": [
      "the greatest number is:6\n"
     ]
    }
   ],
   "source": [
    "def greater_num():\n",
    "    num1=eval(input(\"Enter the number1:\"))\n",
    "    num2=eval(input(\"Enter the number2:\"))\n",
    "    num3=eval(input(\"Enter the number3:\"))\n",
    "    if num1>num2 and num1>num3:\n",
    "        print(f\"the greatest number is:{num1}\")\n",
    "    elif num2>num3:\n",
    "        print(f\"the greatest number is:{num2}\")\n",
    "    else:\n",
    "        print(f\"the greatest number is:{num3}\")\n",
    "greater_num()"
   ]
  },
  {
   "cell_type": "code",
   "execution_count": null,
   "id": "9f4e5467-cfc1-4962-b0b1-0a31d489199a",
   "metadata": {},
   "outputs": [],
   "source": []
  }
 ],
 "metadata": {
  "kernelspec": {
   "display_name": "Python 3 (ipykernel)",
   "language": "python",
   "name": "python3"
  },
  "language_info": {
   "codemirror_mode": {
    "name": "ipython",
    "version": 3
   },
   "file_extension": ".py",
   "mimetype": "text/x-python",
   "name": "python",
   "nbconvert_exporter": "python",
   "pygments_lexer": "ipython3",
   "version": "3.11.7"
  }
 },
 "nbformat": 4,
 "nbformat_minor": 5
}
