{
 "cells": [
  {
   "cell_type": "markdown",
   "id": "2755fedf-27fd-41d4-bbe2-270714eff6dc",
   "metadata": {},
   "source": [
    "**1).Write a program that asks the user to enter a length in centimetres. If the user enters \n",
    "a negative length, the program should tell the user that the entry is invalid. Otherwise, \n",
    "the program should convert the length to inches and print out the result. There are \n",
    "2.54 centimetres in an inch.**"
   ]
  },
  {
   "cell_type": "code",
   "execution_count": 12,
   "id": "f374bb33-9c69-45df-9bee-9d582046cc17",
   "metadata": {},
   "outputs": [
    {
     "name": "stdin",
     "output_type": "stream",
     "text": [
      "Enter a length in centimeater: 1\n"
     ]
    },
    {
     "name": "stdout",
     "output_type": "stream",
     "text": [
      "the result is:2.54\n"
     ]
    }
   ],
   "source": [
    "length=eval(input(\"Enter a length in centimeater:\"))\n",
    "if length<0:\n",
    "    print(\"you put invalid value\")\n",
    "    \n",
    "elif length>=0:\n",
    "    length_inch=length*2.54\n",
    "    print(f\"the result is:{length_inch}\")\n"
   ]
  },
  {
   "cell_type": "markdown",
   "id": "f3f51a18-40a3-45b3-bc67-f771bd21ef37",
   "metadata": {},
   "source": [
    "**2).Ask the user for a temperature. Then ask them what units, Celsius or Fahrenheit, the \n",
    "temperature is in. Your program should convert the temperature to the other unit. The \n",
    "conversions are F = 9 5 C +32 and C = 5 9 (F − 32).**"
   ]
  },
  {
   "cell_type": "code",
   "execution_count": 26,
   "id": "aa43169b-615d-4b78-a58a-0e485301164d",
   "metadata": {},
   "outputs": [
    {
     "name": "stdin",
     "output_type": "stream",
     "text": [
      "Enter the 1 or 2: 2\n",
      "Enter tremprature in fahenheit: 100\n"
     ]
    },
    {
     "name": "stdout",
     "output_type": "stream",
     "text": [
      "converted in fahrenheight:7347\n"
     ]
    }
   ],
   "source": [
    "num=eval(input(\"Enter the 1 or 2:\"))\n",
    "try:\n",
    "    if num==1:\n",
    "        temp_celsius=eval(input(\"Enter tremprature in celsius:\"))\n",
    "        temp_celsius=59*(temp_fahren-32)\n",
    "        print(f\"converted in celsius:{temp_celsius}\")\n",
    "    elif num==2:\n",
    "        temp_fahren=eval(input(\"Enter tremprature in fahenheit:\"))\n",
    "        temp_fahren=95*temp_celsius+32\n",
    "        print(f\"converted in fahrenheight:{temp_fahren}\")\n",
    "except  Exception as e:\n",
    "    print(e)"
   ]
  },
  {
   "cell_type": "markdown",
   "id": "97c690c5-4594-4cf6-8b7c-b711fbc069f4",
   "metadata": {},
   "source": [
    "**3).Ask the user to enter a temperature in Celsius. The program should print a \n",
    "message based on the temperature:**\n",
    "- If the temperature is less than -273.15, print that the temperature is invalid because it is \n",
    "below absolute zero. \n",
    "- If it is exactly -273.15, print that the temperature is absolute 0. \n",
    "- If the temperature is between -273.15 and 0, print that the temperature is below \n",
    "freezing.\n",
    "- If it is 0, print that the temperature is at the freezing point. \n",
    "- If it is between 0 and 100, print that the temperature is in the normal \n",
    "range.\n",
    "- If it is 100, print that the temperature is at the boiling point. \n",
    "- If it is above 100, print that the temperature is above the boiling point."
   ]
  },
  {
   "cell_type": "code",
   "execution_count": 17,
   "id": "cf36873e-f18b-4e2f-9e94-1267653e1eeb",
   "metadata": {},
   "outputs": [
    {
     "name": "stdin",
     "output_type": "stream",
     "text": [
      "Enter the temp in celsius: 77\n"
     ]
    },
    {
     "name": "stdout",
     "output_type": "stream",
     "text": [
      "the temperature is in the normal range.\n"
     ]
    }
   ],
   "source": [
    "temp_celsius=eval(input(\"Enter the temp in celsius:\"))\n",
    "if temp_celsius<-273.15:\n",
    "    print(\"the temperature is invalid because it is below absolute zero.\")\n",
    "elif temp_celsius==-273.15:\n",
    "    print(\"the temperature is absolute 0\")\n",
    "elif temp_celsius<0:\n",
    "    print(\"the temperature is below freezing.\")\n",
    "elif temp_celsius==0:\n",
    "    print(\" the temperature is at the freezing point.\")\n",
    "elif temp_celsius<100:\n",
    "    print(\"the temperature is in the normal range.\")\n",
    "elif temp_celsius==100:\n",
    "    print(\"the temperature is at the boiling point.\")\n",
    "elif temp_celsius>100:\n",
    "    print(\"the temperature is above the boiling point.\")\n",
    "    \n"
   ]
  },
  {
   "cell_type": "markdown",
   "id": "3ef77426-d733-4e4e-bb60-bc3118d90fad",
   "metadata": {},
   "source": [
    "**4).Write a program that asks the user how many credits they have taken. If they have taken 23 or \n",
    "less, print that the student is a freshman. If they have taken between 24 and 53, print that they \n",
    "are asophomore. The range for juniors is 54 to 83, and for seniors it is 84 and over.**"
   ]
  },
  {
   "cell_type": "code",
   "execution_count": 7,
   "id": "27ff19d7-a665-4342-bc9e-ea9ab8ff731d",
   "metadata": {},
   "outputs": [
    {
     "name": "stdin",
     "output_type": "stream",
     "text": [
      "value cradites: 63\n"
     ]
    },
    {
     "name": "stdout",
     "output_type": "stream",
     "text": [
      " the student is a juniors.\n"
     ]
    }
   ],
   "source": [
    "credit=eval(input(\"value cradites:\"))\n",
    "if credit<=23:\n",
    "    print(\" the student is a freshman\")\n",
    "elif credit<=53:\n",
    "    print(\" the student is a asophomore.\")\n",
    "elif credit<=83:\n",
    "    print(\" the student is a juniors.\")\n",
    "else:\n",
    "    print(\" the student is a seniors\")"
   ]
  },
  {
   "cell_type": "markdown",
   "id": "78b6e5ad-313d-4321-b170-c48891634184",
   "metadata": {},
   "source": [
    "**5).Generate a random number between 1 and 10. Ask the user to guess the number and print a \n",
    "message based on whether they get it right or not**"
   ]
  },
  {
   "cell_type": "code",
   "execution_count": 8,
   "id": "ae8f38d3-9ca2-457d-a785-d383018c4009",
   "metadata": {},
   "outputs": [
    {
     "name": "stdin",
     "output_type": "stream",
     "text": [
      "User enter value 5\n"
     ]
    },
    {
     "name": "stdout",
     "output_type": "stream",
     "text": [
      "you are not right.\n"
     ]
    }
   ],
   "source": [
    "import random\n",
    "random_num=random.randint(1,10)\n",
    "user_num=eval(input(\"User enter value\"))\n",
    "if random_num==user_num:\n",
    "    print(\"you are right.\")\n",
    "else:\n",
    "    print(\"you are not right.\")"
   ]
  },
  {
   "cell_type": "markdown",
   "id": "ffec677a-308c-4588-8085-b87d73f46ff6",
   "metadata": {},
   "source": [
    "**6).A store charges $12 per item if you buy less than 10 items. If you buy between 10 \n",
    "and 99 items, the cost is $10 per item. If you buy 100 or more items, the cost is $7 \n",
    "per item. Write a program that asks the user how many items they are buying and \n",
    "prints the total cost.**"
   ]
  },
  {
   "cell_type": "code",
   "execution_count": 9,
   "id": "a87871ba-1dae-46d2-8317-ab65c1fd162e",
   "metadata": {},
   "outputs": [
    {
     "name": "stdin",
     "output_type": "stream",
     "text": [
      "How many number of itens?: 6\n"
     ]
    },
    {
     "name": "stdout",
     "output_type": "stream",
     "text": [
      "the total cost is 72.\n"
     ]
    }
   ],
   "source": [
    "count_items=eval(input(\"How many number of itens?:\"))\n",
    "if count_items<=10:\n",
    "    total_cost=12*count_items\n",
    "    print(f\"the total cost is {total_cost}.\")\n",
    "elif count_items<=99:\n",
    "    total_cost=10*count_items\n",
    "    print(f\"the total cost is {total_cost}.\")\n",
    "elif count_items>=100:\n",
    "    total_cost=7*count_items\n",
    "    print(f\"the total cost is {total_cost}.\")"
   ]
  },
  {
   "cell_type": "markdown",
   "id": "9be988a4-80bc-4a05-8a96-7cabeaa4c27a",
   "metadata": {},
   "source": [
    "**7).Write a program that asks the user for two numbers and prints Close if the \n",
    "numbers are within .001of each other and Not close otherwise.**"
   ]
  },
  {
   "cell_type": "code",
   "execution_count": 10,
   "id": "052060fd-eefc-45ca-938e-b47a6b6dbf08",
   "metadata": {},
   "outputs": [
    {
     "name": "stdin",
     "output_type": "stream",
     "text": [
      "Enter here frist_number. 1/2\n",
      "Enter here second_number. 1/3\n"
     ]
    },
    {
     "name": "stdout",
     "output_type": "stream",
     "text": [
      "it is not close to 0.001.\n"
     ]
    }
   ],
   "source": [
    "num1=eval(input(\"Enter here frist_number.\"))\n",
    "num2=eval(input(\"Enter here second_number.\"))\n",
    "if (num1/num2)<=0.001:\n",
    "    print(\"it is close to 0.001.\")\n",
    "else:\n",
    "    print(\"it is not close to 0.001.\")"
   ]
  },
  {
   "cell_type": "markdown",
   "id": "7d377f97-1e70-414c-b5b4-5336d4eb7f17",
   "metadata": {},
   "source": [
    "**8).A year is a leap year if it is divisible by 4, except that years divisible by 100 are not leap years unless \n",
    "they are also divisible by 400. Write a program that asks the user for a year and prints out whether \n",
    "it is a leap year or not**"
   ]
  },
  {
   "cell_type": "code",
   "execution_count": 13,
   "id": "760d9491-89d3-401d-b7ee-4879401ba80e",
   "metadata": {},
   "outputs": [
    {
     "name": "stdin",
     "output_type": "stream",
     "text": [
      "Enter the specific year.: 1700\n"
     ]
    },
    {
     "name": "stdout",
     "output_type": "stream",
     "text": [
      " this is not a leap year\n"
     ]
    }
   ],
   "source": [
    "year=int(input(\"Enter the specific year.:\"))\n",
    "if year%4==0 and year%100!=0 or year%400==0 :\n",
    "    print(\"this is leap year\")\n",
    "else:\n",
    "    print(\" this is not a leap year\")"
   ]
  },
  {
   "cell_type": "markdown",
   "id": "cdfed03c-238d-447a-b45d-9732cef04f61",
   "metadata": {},
   "source": [
    "**9).Write a program that asks the user to enter a number and prints out all the divisors of that \n",
    "number. [Hint: the % operator is used to tell if a number is divisible by something.**"
   ]
  },
  {
   "cell_type": "code",
   "execution_count": 6,
   "id": "9ca55574-4988-433b-a800-86ccce77d415",
   "metadata": {},
   "outputs": [
    {
     "name": "stdin",
     "output_type": "stream",
     "text": [
      "Enter the value 40\n"
     ]
    },
    {
     "name": "stdout",
     "output_type": "stream",
     "text": [
      "divisor of is 1\n",
      "divisor of is 2\n",
      "divisor of is 4\n",
      "divisor of is 5\n",
      "divisor of is 8\n",
      "divisor of is 10\n",
      "divisor of is 20\n",
      "divisor of is 40\n"
     ]
    }
   ],
   "source": [
    "num=eval(input(\"Enter the value\"))\n",
    "for i in range(1,num+1):\n",
    "    n_zero = num%i\n",
    "    if n_zero==0:\n",
    "        print(f\"divisor of is {i}\")        "
   ]
  },
  {
   "cell_type": "markdown",
   "id": "af6a44d0-9433-4fa9-9ee1-b039c992b33d",
   "metadata": {},
   "source": [
    "**10).Write a program that asks the user for an hour between 1 and 12, asks them to \n",
    "enter am or pm, and asks them how many hours into the future they want to go.** \n",
    "**Print out what the hour will be that many hours into the future, printing am or pm as \n",
    "appropriate. An example is shown below.** \n",
    "- Enter hour: 8\n",
    "- am (1) or pm (2)? 1\n",
    "- How many hours ahead? 5\n",
    "- New hour: 1 p"
   ]
  },
  {
   "cell_type": "code",
   "execution_count": 21,
   "id": "664d1c46-6cf3-449f-8744-a6c4f3acda7b",
   "metadata": {},
   "outputs": [
    {
     "name": "stdin",
     "output_type": "stream",
     "text": [
      "Enter time between 1 to 12. 6\n",
      "Enter am or pm. am\n"
     ]
    },
    {
     "name": "stdout",
     "output_type": "stream",
     "text": [
      "am\n"
     ]
    },
    {
     "name": "stdin",
     "output_type": "stream",
     "text": [
      "How many hour you need. 7\n"
     ]
    },
    {
     "name": "stdout",
     "output_type": "stream",
     "text": [
      "total hour is 13\n"
     ]
    }
   ],
   "source": [
    "hour_required=eval(input(\"Enter time between 1 to 12.\"))\n",
    "if 0<hour_required<=12:\n",
    "    pass\n",
    "    time_priod=input(\"Enter am or pm.\")\n",
    "    if time_priod=='am' or'pm':\n",
    "        print(f\"{time_priod}\")\n",
    "        extra_hour=int(input(\"How many hour you need.\"))\n",
    "        print(f\"total hour is {hour_required+extra_hour}\")"
   ]
  },
  {
   "cell_type": "code",
   "execution_count": null,
   "id": "dabdb1f3-6d92-463e-bb6d-15585ce6f357",
   "metadata": {},
   "outputs": [],
   "source": []
  }
 ],
 "metadata": {
  "kernelspec": {
   "display_name": "Python 3 (ipykernel)",
   "language": "python",
   "name": "python3"
  },
  "language_info": {
   "codemirror_mode": {
    "name": "ipython",
    "version": 3
   },
   "file_extension": ".py",
   "mimetype": "text/x-python",
   "name": "python",
   "nbconvert_exporter": "python",
   "pygments_lexer": "ipython3",
   "version": "3.11.7"
  }
 },
 "nbformat": 4,
 "nbformat_minor": 5
}
