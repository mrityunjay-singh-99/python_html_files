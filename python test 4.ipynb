{
 "cells": [
  {
   "cell_type": "markdown",
   "id": "400d0f22-68da-42bb-a6d6-1403709608fa",
   "metadata": {},
   "source": [
    "**Q-1 Write a Python Program to Check Leap Year**"
   ]
  },
  {
   "cell_type": "code",
   "execution_count": 8,
   "id": "74ebe2e3-b34e-4ae2-a265-460fd66ffc2f",
   "metadata": {},
   "outputs": [
    {
     "name": "stdin",
     "output_type": "stream",
     "text": [
      "enter year 1700\n"
     ]
    },
    {
     "name": "stdout",
     "output_type": "stream",
     "text": [
      "1700:not a leap year\n"
     ]
    }
   ],
   "source": [
    "def check_leap(year):\n",
    "    if year%4==0 and year%100!=0 or year%400==0:\n",
    "        print(f\"{year}:leap year.\")\n",
    "    else:\n",
    "        print(f\"{year}:not a leap year\")\n",
    "check_leap(int(input(\"enter year\")))        "
   ]
  },
  {
   "cell_type": "markdown",
   "id": "1fc34c7f-fcba-49f8-a843-90cdfe9d46a6",
   "metadata": {},
   "source": [
    "**Q-2 Write a Python Program to Check Prime Number.**"
   ]
  },
  {
   "cell_type": "code",
   "execution_count": null,
   "id": "37bb80d5-04a2-420f-beb4-15b98462313e",
   "metadata": {},
   "outputs": [],
   "source": [
    "def prime_number(num1):\n",
    "    if num1<2:\n",
    "        print('not prime')\n",
    "    else:    \n",
    "        for i in range(2,num1):\n",
    "            if num1%i==0:\n",
    "                print(\"not prime\")\n",
    "            else:\n",
    "                print('prime')\n",
    "prime_number(int(input(\"Enter num1:\")))    "
   ]
  },
  {
   "cell_type": "markdown",
   "id": "b4b3411f-5cab-48ec-9cbe-180d981c5bc2",
   "metadata": {},
   "source": [
    "**Q-3 Write a Python Program to Display the multiplication Table.**"
   ]
  },
  {
   "cell_type": "code",
   "execution_count": 5,
   "id": "3ce6ede4-a0ae-4e1d-9eba-c408eb6d1259",
   "metadata": {},
   "outputs": [
    {
     "name": "stdin",
     "output_type": "stream",
     "text": [
      "num1 9\n"
     ]
    },
    {
     "name": "stdout",
     "output_type": "stream",
     "text": [
      "9*1=9\n",
      "9*2=18\n",
      "9*3=27\n",
      "9*4=36\n",
      "9*5=45\n",
      "9*6=54\n",
      "9*7=63\n",
      "9*8=72\n",
      "9*9=81\n",
      "9*10=90\n"
     ]
    }
   ],
   "source": [
    "def multi_table(num1):\n",
    "    for i in range(1,11):\n",
    "        print(f\"{num1}*{i}={num1*i}\")\n",
    "multi_table(int(input(\"num1\")))"
   ]
  },
  {
   "cell_type": "markdown",
   "id": "85e60906-c35c-42db-8a96-bb00f7699b3a",
   "metadata": {},
   "source": [
    "**Q-4 Write a Python program to convert kilometers to miles.\n",
    "1km =0.621371**"
   ]
  },
  {
   "cell_type": "code",
   "execution_count": 4,
   "id": "8157655b-8089-49a9-9d67-c1aa207e8587",
   "metadata": {},
   "outputs": [
    {
     "name": "stdin",
     "output_type": "stream",
     "text": [
      "Enter kilometer: 3\n"
     ]
    },
    {
     "name": "stdout",
     "output_type": "stream",
     "text": [
      "1.86\n"
     ]
    }
   ],
   "source": [
    "def convert_mile(kilometers):\n",
    "    mile=round(kilometers*0.621371,2)\n",
    "    print(mile)\n",
    "convert_mile(eval(input(\"Enter kilometer:\")))    "
   ]
  },
  {
   "cell_type": "markdown",
   "id": "987d2f67-d59e-4d6d-b518-1d81b29f9c0a",
   "metadata": {},
   "source": [
    "**Q-5 Write a Python program to convert Celsius to Fahrenheit.\n",
    "Formula = (celsius * 9/5) + 32**"
   ]
  },
  {
   "cell_type": "code",
   "execution_count": 2,
   "id": "f551c756-3ad5-45b7-b3c6-e6e69740aac4",
   "metadata": {},
   "outputs": [
    {
     "name": "stdin",
     "output_type": "stream",
     "text": [
      "Enter celsius 37\n"
     ]
    },
    {
     "name": "stdout",
     "output_type": "stream",
     "text": [
      "98.6\n"
     ]
    }
   ],
   "source": [
    "def convert(celsius):\n",
    "    fahrenheit=(celsius*9/5)+32\n",
    "    print(fahrenheit)\n",
    "convert(eval(input(\"Enter celsius\")))    "
   ]
  },
  {
   "cell_type": "code",
   "execution_count": null,
   "id": "67be3f43-0ef8-4f0b-8f49-2482449d31f4",
   "metadata": {},
   "outputs": [],
   "source": []
  }
 ],
 "metadata": {
  "kernelspec": {
   "display_name": "Python 3 (ipykernel)",
   "language": "python",
   "name": "python3"
  },
  "language_info": {
   "codemirror_mode": {
    "name": "ipython",
    "version": 3
   },
   "file_extension": ".py",
   "mimetype": "text/x-python",
   "name": "python",
   "nbconvert_exporter": "python",
   "pygments_lexer": "ipython3",
   "version": "3.11.7"
  }
 },
 "nbformat": 4,
 "nbformat_minor": 5
}
