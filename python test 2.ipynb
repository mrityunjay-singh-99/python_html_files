{
 "cells": [
  {
   "cell_type": "markdown",
   "id": "a8d32b99-b4b3-459d-979e-990eb217fc01",
   "metadata": {},
   "source": [
    "**1. Write a function that calculates the factorial of a given number. The function should \n",
    "take an integer “n” as its parameter and return the factorial of “n”.**"
   ]
  },
  {
   "cell_type": "code",
   "execution_count": 50,
   "id": "4cbec17c-bcff-4d83-8bb9-d207744724c3",
   "metadata": {},
   "outputs": [
    {
     "name": "stdin",
     "output_type": "stream",
     "text": [
      " 12\n"
     ]
    },
    {
     "name": "stdout",
     "output_type": "stream",
     "text": [
      "1\n",
      "2\n",
      "3\n",
      "4\n",
      "6\n",
      "12\n"
     ]
    }
   ],
   "source": [
    "n=eval(input())\n",
    "for i in range(1,n+1):\n",
    "    if n%i==0:\n",
    "        print(i)\n",
    "        "
   ]
  },
  {
   "cell_type": "markdown",
   "id": "6927d174-750b-48e7-b57a-2ce828395b92",
   "metadata": {},
   "source": [
    "**2. Write a Python program to calculate the solutions of a given quadratic equation is \n",
    "Input:X\n",
    "2\n",
    "-5X+6=0\n",
    "Output:2,3**"
   ]
  },
  {
   "cell_type": "code",
   "execution_count": 142,
   "id": "70d47c54-3651-4653-a908-617d0f313cfb",
   "metadata": {},
   "outputs": [
    {
     "name": "stdin",
     "output_type": "stream",
     "text": [
      "Enter coefficient of x^2:  1\n",
      "Enter coefficient of x:  5\n",
      "Enter coefficient of :  6\n"
     ]
    },
    {
     "name": "stdout",
     "output_type": "stream",
     "text": [
      "1*x^2+5*x+6=0\n",
      "-2.0 -3.0\n"
     ]
    }
   ],
   "source": [
    "import math \n",
    "sqrt=math.sqrt\n",
    "#ax^2+bx+c=0\n",
    "a=int(input(\"Enter coefficient of x^2: \"))\n",
    "b=int(input(\"Enter coefficient of x: \"))\n",
    "c=int(input(\"Enter coefficient of : \"))\n",
    "print(f\"{a}*x^2+{b}*x+{c}=0\")\n",
    "val=(b*b-4*a*c)\n",
    "val1=sqrt(val)\n",
    "print((-b+val1)/2*a ,(-b-val1)/2*a)\n"
   ]
  },
  {
   "cell_type": "code",
   "execution_count": 145,
   "id": "534725fe-9d40-4e0c-9e84-6679dd5d15fa",
   "metadata": {},
   "outputs": [
    {
     "data": {
      "text/plain": [
       "['__doc__',\n",
       " '__loader__',\n",
       " '__name__',\n",
       " '__package__',\n",
       " '__spec__',\n",
       " 'acos',\n",
       " 'acosh',\n",
       " 'asin',\n",
       " 'asinh',\n",
       " 'atan',\n",
       " 'atan2',\n",
       " 'atanh',\n",
       " 'cbrt',\n",
       " 'ceil',\n",
       " 'comb',\n",
       " 'copysign',\n",
       " 'cos',\n",
       " 'cosh',\n",
       " 'degrees',\n",
       " 'dist',\n",
       " 'e',\n",
       " 'erf',\n",
       " 'erfc',\n",
       " 'exp',\n",
       " 'exp2',\n",
       " 'expm1',\n",
       " 'fabs',\n",
       " 'factorial',\n",
       " 'floor',\n",
       " 'fmod',\n",
       " 'frexp',\n",
       " 'fsum',\n",
       " 'gamma',\n",
       " 'gcd',\n",
       " 'hypot',\n",
       " 'inf',\n",
       " 'isclose',\n",
       " 'isfinite',\n",
       " 'isinf',\n",
       " 'isnan',\n",
       " 'isqrt',\n",
       " 'lcm',\n",
       " 'ldexp',\n",
       " 'lgamma',\n",
       " 'log',\n",
       " 'log10',\n",
       " 'log1p',\n",
       " 'log2',\n",
       " 'modf',\n",
       " 'nan',\n",
       " 'nextafter',\n",
       " 'perm',\n",
       " 'pi',\n",
       " 'pow',\n",
       " 'prod',\n",
       " 'radians',\n",
       " 'remainder',\n",
       " 'sin',\n",
       " 'sinh',\n",
       " 'sqrt',\n",
       " 'tan',\n",
       " 'tanh',\n",
       " 'tau',\n",
       " 'trunc',\n",
       " 'ulp']"
      ]
     },
     "execution_count": 145,
     "metadata": {},
     "output_type": "execute_result"
    }
   ],
   "source": [
    "import math\n",
    "dir(math)\n",
    "\n"
   ]
  },
  {
   "cell_type": "markdown",
   "id": "43ce72c6-5233-46c2-b2d5-65d23e061519",
   "metadata": {},
   "source": [
    "**3. Write a Python program that calculates three interesting values for a range of natural \n",
    "numbers: \n",
    "• the sum of all numbers,\n",
    "• the sum of all their squares, \n",
    "• and the sum of all their cubes. \n",
    " That demonstrate this by finding these values for the numbers 1 to 10?**"
   ]
  },
  {
   "cell_type": "code",
   "execution_count": 21,
   "id": "f91826e7-551b-4e3a-bf51-5f6ffba4773d",
   "metadata": {},
   "outputs": [
    {
     "name": "stdout",
     "output_type": "stream",
     "text": [
      "55\n"
     ]
    }
   ],
   "source": [
    "sum=0\n",
    "for i in range(1,11):\n",
    "    sum=sum+i\n",
    "print(sum)"
   ]
  },
  {
   "cell_type": "code",
   "execution_count": 42,
   "id": "6a3a2248-da8e-4e2e-b812-826b15d643dc",
   "metadata": {},
   "outputs": [
    {
     "name": "stdout",
     "output_type": "stream",
     "text": [
      "385\n"
     ]
    }
   ],
   "source": [
    "#sum if square\n",
    "sum=0\n",
    "for i in range(1,11):\n",
    "    sum=sum+i*i\n",
    "print(sum)"
   ]
  },
  {
   "cell_type": "code",
   "execution_count": 45,
   "id": "49d1a077-bd39-42f5-ad15-893e69fd3c3b",
   "metadata": {},
   "outputs": [
    {
     "name": "stdout",
     "output_type": "stream",
     "text": [
      "3025\n"
     ]
    }
   ],
   "source": [
    "#sum if square\n",
    "sum=0\n",
    "for i in range(1,11):\n",
    "    sum=sum+i*i*i\n",
    "print(sum)"
   ]
  },
  {
   "cell_type": "markdown",
   "id": "2c61e608-c4e8-4939-9744-35d6e31b7276",
   "metadata": {},
   "source": [
    "**4. Write a program that prints the multiplication table of a given number using a “for”\n",
    "loop.**"
   ]
  },
  {
   "cell_type": "code",
   "execution_count": 27,
   "id": "69e4e100-4010-455a-a3ad-c9049a7ab158",
   "metadata": {},
   "outputs": [
    {
     "name": "stdout",
     "output_type": "stream",
     "text": [
      "n*1 =6\n",
      "n*2 =12\n",
      "n*3 =18\n",
      "n*4 =24\n",
      "n*5 =30\n",
      "n*6 =36\n",
      "n*7 =42\n",
      "n*8 =48\n",
      "n*9 =54\n",
      "n*10 =60\n"
     ]
    }
   ],
   "source": [
    "n=int(input('Enter the number'))\n",
    "for i in range(1,11):\n",
    "    print(f\"n*{i} ={n*i}\")   "
   ]
  },
  {
   "cell_type": "markdown",
   "id": "9e3d1116-5d68-43f4-b4cc-0576be8ed3c8",
   "metadata": {},
   "source": [
    "**5. write a Python function to check the given number is palindrome or not? The catch: \n",
    "you can't use string slicing or built-in reversal functions!**"
   ]
  },
  {
   "cell_type": "code",
   "execution_count": 144,
   "id": "1b35dd9e-3e65-494d-9aad-7bc16331b419",
   "metadata": {},
   "outputs": [
    {
     "name": "stdout",
     "output_type": "stream",
     "text": [
      "12345\n"
     ]
    }
   ],
   "source": [
    "num=54321\n",
    "n1=54321//10000\n",
    "n2=54321%10000\n",
    "n3=n2//1000\n",
    "n4=n2%1000\n",
    "n5=n4//100\n",
    "n6=n4%100\n",
    "n7=n6//10\n",
    "n8=n6%10\n",
    "print(n8,n7,n5,n3,n1,sep='')\n",
    "\n",
    "  \n"
   ]
  },
  {
   "cell_type": "code",
   "execution_count": 97,
   "id": "398ec556-8137-4321-b7fb-19718a32f7b8",
   "metadata": {},
   "outputs": [
    {
     "name": "stdout",
     "output_type": "stream",
     "text": [
      "12345\n"
     ]
    }
   ],
   "source": [
    "print(i8,i7,i5,i3,i1,sep='')"
   ]
  },
  {
   "cell_type": "markdown",
   "id": "7017d082-b89c-4e52-9fb3-c11d5b624d52",
   "metadata": {},
   "source": [
    "**5. write a Python function to check the given number is palindrome or not? The catch: you can't use string slicing or built-in reversal functions!**\n",
    "\n",
    "\n"
   ]
  },
  {
   "cell_type": "code",
   "execution_count": 14,
   "id": "71a32964-b60a-49a2-80c5-25bbe4359a5e",
   "metadata": {},
   "outputs": [
    {
     "name": "stdout",
     "output_type": "stream",
     "text": [
      "44554545\n"
     ]
    }
   ],
   "source": [
    "#num=4554=4554\n",
    "#num=4556!=6554\n",
    "num=4554\n",
    "def  palindrome():\n",
    "    n1=num//1000 #4\n",
    "    n2=num%1000 #554\n",
    "    n3=num//100 #5\n",
    "    n4=num%100 #54\n",
    "    n5=num//10 #5\n",
    "    n6=num%10  #4\n",
    "    return(n6,n5,n3,n1)\n",
    "n6,n5,n3,n1=palindrome()        \n",
    "print(n6,n5,n3,n3,sep='')"
   ]
  },
  {
   "cell_type": "code",
   "execution_count": 30,
   "id": "addcb1bd-c5ac-4829-bd14-95299f62dd69",
   "metadata": {},
   "outputs": [],
   "source": [
    "num=4554 # == 4554\n",
    "last = num % 10 \n",
    "new = num  // 10\n",
    "second_last = new % 10\n",
    "new_1= new // 10\n",
    "third_last = new_1 % 10 \n",
    "new_2 =  new_1 // 10"
   ]
  },
  {
   "cell_type": "code",
   "execution_count": 49,
   "id": "19c841c9-b63d-4dd7-8d90-85d89a8b4935",
   "metadata": {},
   "outputs": [
    {
     "name": "stdin",
     "output_type": "stream",
     "text": [
      "Enter your input to check weather it is palindrome or not -> 4556\n"
     ]
    },
    {
     "name": "stdout",
     "output_type": "stream",
     "text": [
      "it is not a palindrome\n"
     ]
    }
   ],
   "source": [
    "num= int(input('Enter your input to check weather it is palindrome or not ->'))\n",
    "\n",
    "rev = 0\n",
    "while num > 0:\n",
    "    last = num % 10 \n",
    "    rev = (rev * 10) + last\n",
    "    num = num // 10\n",
    "\n",
    "if num == rev:\n",
    "    print('it is a palindrome')\n",
    "else:\n",
    "    print('it is not a palindrome')"
   ]
  },
  {
   "cell_type": "code",
   "execution_count": 67,
   "id": "9834158c-c202-4b55-a5d6-debc07cb9a63",
   "metadata": {},
   "outputs": [
    {
     "name": "stdin",
     "output_type": "stream",
     "text": [
      "enter the value 4556\n"
     ]
    },
    {
     "name": "stdout",
     "output_type": "stream",
     "text": [
      "it is not a palindrome\n"
     ]
    }
   ],
   "source": [
    "#5. write a Python function to check the given number is palindrome or not? The catch: you can't use string slicing or built-in reversal functions!\n",
    "num=int(input(\"enter the value\"))\n",
    "i=0\n",
    "while num>0:\n",
    "    last_one = num%10\n",
    "    i=(i*10) + last_one\n",
    "    num=num//10\n",
    "if i==num:\n",
    "    print('it is a palindrome')\n",
    "else:\n",
    "    print('it is not a palindrome')"
   ]
  },
  {
   "cell_type": "code",
   "execution_count": 2,
   "id": "8a5d7db8-591f-49c6-a1a4-2e2d73c2bdda",
   "metadata": {},
   "outputs": [
    {
     "name": "stdin",
     "output_type": "stream",
     "text": [
      "enter the value 4446\n"
     ]
    },
    {
     "name": "stdout",
     "output_type": "stream",
     "text": [
      "it is a palindrome\n"
     ]
    }
   ],
   "source": [
    "num=int(input(\"enter the value\"))\n",
    "for i in range(5):\n",
    "    n=0\n",
    "    last = num%10\n",
    "    n=n+last\n",
    "    n=n*10\n",
    "    num=num//10\n",
    "if n==num:\n",
    "    print('it is a palindrome')\n",
    "else:\n",
    "    print('it is not a palindrome')"
   ]
  },
  {
   "cell_type": "code",
   "execution_count": 6,
   "id": "dc60c23c-129d-4f83-8956-7367d2f07e56",
   "metadata": {},
   "outputs": [
    {
     "name": "stdin",
     "output_type": "stream",
     "text": [
      "enter the value 4455\n"
     ]
    },
    {
     "name": "stdout",
     "output_type": "stream",
     "text": [
      "it is not a palindrome\n"
     ]
    }
   ],
   "source": [
    "num=int(input(\"enter the value\"))\n",
    "for i in range(5):\n",
    "    if n==0:\n",
    "        last = num%10\n",
    "        n=n+last\n",
    "        n=n*10\n",
    "        num=num//10\n",
    "    else:\n",
    "        n=n*10\n",
    "        last=num%10\n",
    "        n=n*10\n",
    "        num//10\n",
    "if n==num:\n",
    "    print('it is a palindrome')\n",
    "else:\n",
    "    print('it is not a palindrome')"
   ]
  },
  {
   "cell_type": "code",
   "execution_count": 6,
   "id": "8a03e1e9-b4f0-454e-953d-b2c271eccefa",
   "metadata": {},
   "outputs": [
    {
     "data": {
      "text/plain": [
       "4"
      ]
     },
     "execution_count": 6,
     "metadata": {},
     "output_type": "execute_result"
    }
   ],
   "source": [
    "num1=0*10+last\n",
    "num1\n",
    "num1=last[i]"
   ]
  },
  {
   "cell_type": "code",
   "execution_count": null,
   "id": "7329c648-8ab0-401a-9597-b4bcf231ba09",
   "metadata": {},
   "outputs": [],
   "source": []
  }
 ],
 "metadata": {
  "kernelspec": {
   "display_name": "Python 3 (ipykernel)",
   "language": "python",
   "name": "python3"
  },
  "language_info": {
   "codemirror_mode": {
    "name": "ipython",
    "version": 3
   },
   "file_extension": ".py",
   "mimetype": "text/x-python",
   "name": "python",
   "nbconvert_exporter": "python",
   "pygments_lexer": "ipython3",
   "version": "3.11.7"
  }
 },
 "nbformat": 4,
 "nbformat_minor": 5
}
