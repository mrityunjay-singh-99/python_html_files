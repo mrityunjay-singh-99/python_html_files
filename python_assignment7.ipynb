{
 "cells": [
  {
   "cell_type": "markdown",
   "id": "8605a6a6-8c79-48e8-80b3-78fb842db442",
   "metadata": {},
   "source": [
    "**Q1).WAP ask the user print the square of the numbers from 1 to 5**"
   ]
  },
  {
   "cell_type": "code",
   "execution_count": 1,
   "id": "176a9274-9850-458a-a593-c7aa9e1303d3",
   "metadata": {},
   "outputs": [
    {
     "name": "stdout",
     "output_type": "stream",
     "text": [
      "0 1 2 3 4 5 "
     ]
    }
   ],
   "source": [
    "for i in range(6):\n",
    "    print(i,end=' ')"
   ]
  },
  {
   "cell_type": "markdown",
   "id": "3cd6a53b-a85d-4834-b59a-0de3c28c84f6",
   "metadata": {},
   "source": [
    "**Q2). WAP ask the user take 5 random numbers between 10 to 100 /n and print the square of the random numbers**\n",
    "- how many times you need to apply the loop : 5\n",
    "- Every time random number should come \n",
    "- get the square"
   ]
  },
  {
   "cell_type": "code",
   "execution_count": 4,
   "id": "27c0d4a8-ab0c-408a-8f54-5ff55f957ba0",
   "metadata": {},
   "outputs": [
    {
     "name": "stdout",
     "output_type": "stream",
     "text": [
      "number:24 and square:576\n",
      "number:50 and square:2500\n",
      "number:13 and square:169\n",
      "number:39 and square:1521\n",
      "number:89 and square:7921\n"
     ]
    }
   ],
   "source": [
    "import random\n",
    "for i in range(5):\n",
    "    i=random.randint(10,100)\n",
    "    print(f\"number:{i} and square:{i*i}\")"
   ]
  },
  {
   "cell_type": "markdown",
   "id": "42bcc183-19a6-4fbc-93e7-f27d060148ad",
   "metadata": {},
   "source": [
    "**Q3). WAP ask the user take 5 random numbers between 10 to 100 /n and print the square of the random numbers**\n",
    "**Create a function on reuse code lines\n",
    "  call that function inside the for loop**"
   ]
  },
  {
   "cell_type": "code",
   "execution_count": 11,
   "id": "052e57b0-6db3-4503-8b44-b4d4fde9cb4c",
   "metadata": {},
   "outputs": [
    {
     "name": "stdout",
     "output_type": "stream",
     "text": [
      "the number is: 91 and their square is: 8281\n",
      "the number is: 10 and their square is: 100\n",
      "the number is: 55 and their square is: 3025\n",
      "the number is: 8 and their square is: 64\n",
      "the number is: 44 and their square is: 1936\n"
     ]
    }
   ],
   "source": [
    "import random\n",
    "def square():\n",
    "    num=random.randint(1,100)\n",
    "    squ=num*num\n",
    "    return(f\"the number is: {num} and their square is: {squ}\")\n",
    "for i in range(5):\n",
    "    ans=square()  \n",
    "    print(ans)"
   ]
  },
  {
   "cell_type": "markdown",
   "id": "a7b3c694-d3e3-4c57-bfb0-171b2fed00a7",
   "metadata": {},
   "source": [
    " **Q4).wap ask the user enter a value from keyboard 5 times /print that value is even or odd**"
   ]
  },
  {
   "cell_type": "code",
   "execution_count": 12,
   "id": "97d1181c-67a8-46cb-a7b9-47e0bb69a5fd",
   "metadata": {},
   "outputs": [
    {
     "name": "stdin",
     "output_type": "stream",
     "text": [
      "Enter the number: 4\n"
     ]
    },
    {
     "name": "stdout",
     "output_type": "stream",
     "text": [
      "the number is even.\n"
     ]
    },
    {
     "name": "stdin",
     "output_type": "stream",
     "text": [
      "Enter the number: 5\n"
     ]
    },
    {
     "name": "stdout",
     "output_type": "stream",
     "text": [
      "the number is odd.\n"
     ]
    },
    {
     "name": "stdin",
     "output_type": "stream",
     "text": [
      "Enter the number: 6\n"
     ]
    },
    {
     "name": "stdout",
     "output_type": "stream",
     "text": [
      "the number is even.\n"
     ]
    },
    {
     "name": "stdin",
     "output_type": "stream",
     "text": [
      "Enter the number: 43\n"
     ]
    },
    {
     "name": "stdout",
     "output_type": "stream",
     "text": [
      "the number is odd.\n"
     ]
    },
    {
     "name": "stdin",
     "output_type": "stream",
     "text": [
      "Enter the number: 23\n"
     ]
    },
    {
     "name": "stdout",
     "output_type": "stream",
     "text": [
      "the number is odd.\n"
     ]
    }
   ],
   "source": [
    "for i in range(5):\n",
    "    i=eval(input(\"Enter the number:\"))\n",
    "    if i%2==0:\n",
    "        print(f\"the number is even.\")\n",
    "    else:\n",
    "        print(f\"the number is odd.\")"
   ]
  },
  {
   "cell_type": "markdown",
   "id": "1fc8b784-682f-483d-b1a5-694c0f315274",
   "metadata": {},
   "source": [
    "**6)Wap to create 9th table**\n"
   ]
  },
  {
   "cell_type": "code",
   "execution_count": 14,
   "id": "f4d24c50-00fc-473d-baee-52c5052f4d0a",
   "metadata": {},
   "outputs": [
    {
     "name": "stdout",
     "output_type": "stream",
     "text": [
      "9*1=9\n",
      "9*2=18\n",
      "9*3=27\n",
      "9*4=36\n",
      "9*5=45\n",
      "9*6=54\n",
      "9*7=63\n",
      "9*8=72\n",
      "9*9=81\n",
      "9*10=90\n"
     ]
    }
   ],
   "source": [
    "for i in range(1,11):\n",
    "    print(f\"9*{i}={9*i}\")"
   ]
  },
  {
   "cell_type": "markdown",
   "id": "86359e40-4971-485d-9b94-37e55d624775",
   "metadata": {},
   "source": [
    "**7Q) WAP to print the divisiors of number 50**\n"
   ]
  },
  {
   "cell_type": "code",
   "execution_count": 23,
   "id": "ce50632b-d1de-4a67-b9db-c4fd26dc9257",
   "metadata": {},
   "outputs": [
    {
     "name": "stdout",
     "output_type": "stream",
     "text": [
      "the divisior is:1\n",
      "the divisior is:2\n",
      "the divisior is:5\n",
      "the divisior is:10\n",
      "the divisior is:25\n",
      "the divisior is:50\n"
     ]
    },
    {
     "name": "stdin",
     "output_type": "stream",
     "text": [
      "Enter the number: 40\n"
     ]
    },
    {
     "name": "stdout",
     "output_type": "stream",
     "text": [
      "the divisior is:1\n",
      "the divisior is:2\n",
      "the divisior is:4\n",
      "the divisior is:5\n",
      "the divisior is:8\n",
      "the divisior is:10\n",
      "the divisior is:20\n",
      "the divisior is:40\n"
     ]
    }
   ],
   "source": [
    "for i in range(1,51):\n",
    "    if 50%i==0:\n",
    "        print(f\"the divisior is:{i}\")\n",
    "\n",
    "num=eval(input(\"Enter the number:\"))\n",
    "for i in range(1,num+1):\n",
    "    if num%i==0:\n",
    "        print(f\"the divisior is:{i}\")"
   ]
  },
  {
   "cell_type": "markdown",
   "id": "dde4d022-ca15-4b3b-af1b-956786e32c2f",
   "metadata": {},
   "source": [
    "**Q8) WAP print the sum of first 10 natural numbers**\n"
   ]
  },
  {
   "cell_type": "code",
   "execution_count": 18,
   "id": "9153ea81-1a2d-43a5-a0d4-5bd14a85aa18",
   "metadata": {},
   "outputs": [
    {
     "name": "stdout",
     "output_type": "stream",
     "text": [
      "the sum of first natural number is:55\n"
     ]
    }
   ],
   "source": [
    "count=0\n",
    "for i in range(1,11):\n",
    "    count=count+i\n",
    "print(f\"the sum of first natural number is:{count}\")    "
   ]
  },
  {
   "cell_type": "markdown",
   "id": "b5fa1cd8-5ed7-425c-89ad-136db2526dcd",
   "metadata": {},
   "source": [
    "**Q9) How many divisors are availble for 50**\n"
   ]
  },
  {
   "cell_type": "code",
   "execution_count": 29,
   "id": "62df95e5-5f1a-4b50-b1cf-ba1b027c4fd0",
   "metadata": {},
   "outputs": [
    {
     "name": "stdout",
     "output_type": "stream",
     "text": [
      "the divisior is:50and total divisior is:6\n"
     ]
    }
   ],
   "source": [
    "count=0\n",
    "for i in range(1,51):\n",
    "    if 50%i==0:\n",
    "        count=count+1\n",
    "print(f\"the divisior is:50and total divisior is:{count}\")\n",
    "        \n"
   ]
  },
  {
   "cell_type": "markdown",
   "id": "aadb0822-e078-45b6-b44f-7b1cf5900d4e",
   "metadata": {},
   "source": [
    "**10Q) Ask the user enter one number from keyboard and ask the user get the second number randomly from 1 to 10**\n",
    "**if num1 == num2 then print you won otherwise print you lost.Iterate these lines 3 times**"
   ]
  },
  {
   "cell_type": "code",
   "execution_count": 36,
   "id": "7384e4c8-d2ea-44ee-a9f9-1941e19752a2",
   "metadata": {},
   "outputs": [
    {
     "name": "stdin",
     "output_type": "stream",
     "text": [
      "Enter the number: 9\n"
     ]
    },
    {
     "name": "stdout",
     "output_type": "stream",
     "text": [
      "you loose the match.\n",
      "you loose the match.\n",
      "you loose the match.\n"
     ]
    }
   ],
   "source": [
    "import random\n",
    "num1=eval(input(\"Enter the number:\"))\n",
    "num2=random.randint(1,10)\n",
    "for i in range(3):\n",
    "    if num1==num2:\n",
    "        print(f\"you win the match.\")\n",
    "        break\n",
    "    else:\n",
    "        print(f'you loose the match.')\n"
   ]
  },
  {
   "cell_type": "code",
   "execution_count": 35,
   "id": "01a8101b-ebcb-40bb-95e2-febfbcbcf055",
   "metadata": {},
   "outputs": [
    {
     "name": "stdin",
     "output_type": "stream",
     "text": [
      "Enter the number: 3\n"
     ]
    },
    {
     "name": "stdout",
     "output_type": "stream",
     "text": [
      "you loose the match.\n"
     ]
    },
    {
     "name": "stdin",
     "output_type": "stream",
     "text": [
      "Enter the number: 4\n"
     ]
    },
    {
     "name": "stdout",
     "output_type": "stream",
     "text": [
      "you loose the match.\n"
     ]
    },
    {
     "name": "stdin",
     "output_type": "stream",
     "text": [
      "Enter the number: 6\n"
     ]
    },
    {
     "name": "stdout",
     "output_type": "stream",
     "text": [
      "you loose the match.\n"
     ]
    }
   ],
   "source": [
    "import random\n",
    "\n",
    "for i in range(3):\n",
    "    num1=eval(input(\"Enter the number:\"))\n",
    "    num2=random.randint(1,10)\n",
    "    if num1==num2:\n",
    "        print(f\"you win the match.\")\n",
    "        break\n",
    "    else:\n",
    "        print(f'you loose the match.')\n"
   ]
  },
  {
   "cell_type": "markdown",
   "id": "37e58e48-dd1c-4c31-a854-d5d540ee89d6",
   "metadata": {},
   "source": [
    "**Case-2: give 5 chances**\n",
    "- whenever fail print the number of chances leftn/\n",
    "**case-3: Suppose your all chances are over**\n",
    "- print your account locked try after 24hours"
   ]
  },
  {
   "cell_type": "code",
   "execution_count": null,
   "id": "a845c583-c7d8-403c-b4e8-aad58b42fa72",
   "metadata": {},
   "outputs": [
    {
     "name": "stdin",
     "output_type": "stream",
     "text": [
      "Enter the number: 3\n"
     ]
    },
    {
     "name": "stdout",
     "output_type": "stream",
     "text": [
      "you loose the match.\n",
      "Alert!, 4 is only left.\n"
     ]
    },
    {
     "name": "stdin",
     "output_type": "stream",
     "text": [
      "Enter the number: 2\n"
     ]
    },
    {
     "name": "stdout",
     "output_type": "stream",
     "text": [
      "you loose the match.\n",
      "Alert!, 3 is only left.\n"
     ]
    },
    {
     "name": "stdin",
     "output_type": "stream",
     "text": [
      "Enter the number: 1\n"
     ]
    },
    {
     "name": "stdout",
     "output_type": "stream",
     "text": [
      "you loose the match.\n",
      "Alert!, 2 is only left.\n"
     ]
    },
    {
     "name": "stdin",
     "output_type": "stream",
     "text": [
      "Enter the number: 7\n"
     ]
    },
    {
     "name": "stdout",
     "output_type": "stream",
     "text": [
      "you loose the match.\n",
      "Alert!, 1 is only left.\n"
     ]
    },
    {
     "name": "stdin",
     "output_type": "stream",
     "text": [
      "Enter the number: 8\n"
     ]
    },
    {
     "name": "stdout",
     "output_type": "stream",
     "text": [
      "you loose the match.\n",
      "Alert!, 0 is only left.\n",
      "your account is blocked for 24 hours\n"
     ]
    }
   ],
   "source": [
    "import random\n",
    "import time\n",
    "count=0\n",
    "for i in range(5):\n",
    "    num1=eval(input(\"Enter the number:\"))\n",
    "    num2=random.randint(1,10)\n",
    "    if num1==num2:\n",
    "        print(f\"you win the match.\")\n",
    "        break\n",
    "    else:\n",
    "        print(f'you loose the match.')\n",
    "        count=count+1\n",
    "        print(f\"Alert!, {5-count} is only left.\")\n",
    "        if count==5:\n",
    "            print(f\"your account is blocked for 24 hours\")\n",
    "            time.sleep(284)\n",
    "            print(f\"you can play match.\")\n",
    "        \n",
    "        "
   ]
  },
  {
   "cell_type": "code",
   "execution_count": null,
   "id": "6e4d271f-9d55-4b09-83db-f6ec5156956f",
   "metadata": {},
   "outputs": [],
   "source": []
  }
 ],
 "metadata": {
  "kernelspec": {
   "display_name": "Python 3 (ipykernel)",
   "language": "python",
   "name": "python3"
  },
  "language_info": {
   "codemirror_mode": {
    "name": "ipython",
    "version": 3
   },
   "file_extension": ".py",
   "mimetype": "text/x-python",
   "name": "python",
   "nbconvert_exporter": "python",
   "pygments_lexer": "ipython3",
   "version": "3.11.7"
  }
 },
 "nbformat": 4,
 "nbformat_minor": 5
}
