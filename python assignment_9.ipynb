{
 "cells": [
  {
   "cell_type": "markdown",
   "id": "16db3a19-606c-4ee4-935b-e733a0dfafe0",
   "metadata": {},
   "source": [
    "**isalnum',\n",
    " 'isalpha',\n",
    " 'isascii',\n",
    " 'isdecimal',\n",
    " 'isdigit',\n",
    " 'isidentifier',\n",
    " 'islower',\n",
    " 'isnumeric',\n",
    " 'isprintable',\n",
    " 'isspace',\n",
    " 'istitle',\n",
    " 'isupper',**"
   ]
  },
  {
   "cell_type": "markdown",
   "id": "81b90c57-bfb7-45c3-a908-823f0929c1e1",
   "metadata": {},
   "source": [
    "# 1)isalnum"
   ]
  },
  {
   "cell_type": "code",
   "execution_count": 1,
   "id": "050f2a3b-6439-43d0-945e-5c4b629bf7a2",
   "metadata": {},
   "outputs": [
    {
     "data": {
      "text/plain": [
       "False"
      ]
     },
     "execution_count": 1,
     "metadata": {},
     "output_type": "execute_result"
    }
   ],
   "source": [
    "str1=\"hello python\"\n",
    "str1.isalnum()"
   ]
  },
  {
   "cell_type": "code",
   "execution_count": 2,
   "id": "28b11506-4368-43d6-84a7-9d2d0bfc1062",
   "metadata": {},
   "outputs": [
    {
     "data": {
      "text/plain": [
       "True"
      ]
     },
     "execution_count": 2,
     "metadata": {},
     "output_type": "execute_result"
    }
   ],
   "source": [
    "str2=\"python653\"\n",
    "str2.isalnum()"
   ]
  },
  {
   "cell_type": "markdown",
   "id": "e31d7a78-4cf0-4bc0-9bb7-b8020ff4d85b",
   "metadata": {},
   "source": [
    "# 2)isalpha"
   ]
  },
  {
   "cell_type": "code",
   "execution_count": 3,
   "id": "0456c83c-12aa-4371-8dc7-dd550cc4c6b4",
   "metadata": {},
   "outputs": [
    {
     "data": {
      "text/plain": [
       "False"
      ]
     },
     "execution_count": 3,
     "metadata": {},
     "output_type": "execute_result"
    }
   ],
   "source": [
    "str1=\"hello python\"\n",
    "str1.isalpha()"
   ]
  },
  {
   "cell_type": "code",
   "execution_count": 4,
   "id": "1c70cfda-4727-4460-9133-7581d6c24430",
   "metadata": {},
   "outputs": [
    {
     "data": {
      "text/plain": [
       "False"
      ]
     },
     "execution_count": 4,
     "metadata": {},
     "output_type": "execute_result"
    }
   ],
   "source": [
    "str2=\"python653\"\n",
    "str2.isalpha()"
   ]
  },
  {
   "cell_type": "markdown",
   "id": "9cfe439b-d7ec-4238-a1ba-00730b17d36f",
   "metadata": {},
   "source": [
    "# 3)isascii"
   ]
  },
  {
   "cell_type": "code",
   "execution_count": 5,
   "id": "ae37b69f-b490-479b-9919-e1b5af4785d4",
   "metadata": {},
   "outputs": [
    {
     "data": {
      "text/plain": [
       "True"
      ]
     },
     "execution_count": 5,
     "metadata": {},
     "output_type": "execute_result"
    }
   ],
   "source": [
    "str1=\"hello python\"\n",
    "str1.isascii()"
   ]
  },
  {
   "cell_type": "code",
   "execution_count": 6,
   "id": "34c61b65-bae1-4d86-a20f-4f7f832edfb5",
   "metadata": {},
   "outputs": [
    {
     "data": {
      "text/plain": [
       "True"
      ]
     },
     "execution_count": 6,
     "metadata": {},
     "output_type": "execute_result"
    }
   ],
   "source": [
    "str2=\"python653\"\n",
    "str2.isascii()"
   ]
  },
  {
   "cell_type": "markdown",
   "id": "44f9acee-8a7f-4e3f-8b58-c3638a7d91dc",
   "metadata": {},
   "source": [
    "# 4)isdecimal"
   ]
  },
  {
   "cell_type": "code",
   "execution_count": 7,
   "id": "fe527140-22f2-4fa9-ab34-c0e21a8dc3fe",
   "metadata": {},
   "outputs": [
    {
     "data": {
      "text/plain": [
       "False"
      ]
     },
     "execution_count": 7,
     "metadata": {},
     "output_type": "execute_result"
    }
   ],
   "source": [
    "str1=\"hello python\"\n",
    "str1.isdecimal()"
   ]
  },
  {
   "cell_type": "code",
   "execution_count": 8,
   "id": "d1b4b81e-ae9e-4c08-b177-732b9e285578",
   "metadata": {},
   "outputs": [
    {
     "data": {
      "text/plain": [
       "False"
      ]
     },
     "execution_count": 8,
     "metadata": {},
     "output_type": "execute_result"
    }
   ],
   "source": [
    "str2=\"python653\"\n",
    "str2.isdecimal()"
   ]
  },
  {
   "cell_type": "code",
   "execution_count": 12,
   "id": "4e770ffa-9ce9-40e4-85aa-23f40a84a499",
   "metadata": {},
   "outputs": [
    {
     "data": {
      "text/plain": [
       "True"
      ]
     },
     "execution_count": 12,
     "metadata": {},
     "output_type": "execute_result"
    }
   ],
   "source": [
    "str3=\"46578\"\n",
    "str3.isdecimal()"
   ]
  },
  {
   "cell_type": "markdown",
   "id": "8a76756a-d4e7-4549-bdb9-33d2e85f3f31",
   "metadata": {},
   "source": [
    "# 5)isdigit"
   ]
  },
  {
   "cell_type": "code",
   "execution_count": 10,
   "id": "06cc4c3f-9420-45b6-a171-b3b20e00d445",
   "metadata": {},
   "outputs": [
    {
     "data": {
      "text/plain": [
       "False"
      ]
     },
     "execution_count": 10,
     "metadata": {},
     "output_type": "execute_result"
    }
   ],
   "source": [
    "str1=\"hello python\"\n",
    "str1.isdigit()"
   ]
  },
  {
   "cell_type": "code",
   "execution_count": 11,
   "id": "702d70b0-ffe0-478d-97bb-ec230ddf6dd1",
   "metadata": {},
   "outputs": [
    {
     "data": {
      "text/plain": [
       "False"
      ]
     },
     "execution_count": 11,
     "metadata": {},
     "output_type": "execute_result"
    }
   ],
   "source": [
    "str2=\"python653\"\n",
    "str2.isdigit()"
   ]
  },
  {
   "cell_type": "code",
   "execution_count": 13,
   "id": "ce98c7b2-0c8e-40e0-a450-1c41fc402efb",
   "metadata": {},
   "outputs": [
    {
     "data": {
      "text/plain": [
       "True"
      ]
     },
     "execution_count": 13,
     "metadata": {},
     "output_type": "execute_result"
    }
   ],
   "source": [
    "str3=\"46578\"\n",
    "str3.isdigit()"
   ]
  },
  {
   "cell_type": "markdown",
   "id": "d979da57-49a2-46e5-ae25-8f4d76d222b5",
   "metadata": {},
   "source": [
    "# 6)isidentifier"
   ]
  },
  {
   "cell_type": "code",
   "execution_count": 14,
   "id": "03096228-5e60-4f85-8cbf-0e8b609eb9e0",
   "metadata": {},
   "outputs": [
    {
     "data": {
      "text/plain": [
       "False"
      ]
     },
     "execution_count": 14,
     "metadata": {},
     "output_type": "execute_result"
    }
   ],
   "source": [
    "str1=\"hello python\"\n",
    "str1.isidentifier()"
   ]
  },
  {
   "cell_type": "code",
   "execution_count": 15,
   "id": "82c03b87-695c-4895-8e99-37308ae90ee8",
   "metadata": {},
   "outputs": [
    {
     "data": {
      "text/plain": [
       "True"
      ]
     },
     "execution_count": 15,
     "metadata": {},
     "output_type": "execute_result"
    }
   ],
   "source": [
    "str4=\"def\"\n",
    "str4.isidentifier()"
   ]
  },
  {
   "cell_type": "code",
   "execution_count": 17,
   "id": "391decfc-6ea0-4c74-a1ed-f97a34cfebec",
   "metadata": {},
   "outputs": [
    {
     "data": {
      "text/plain": [
       "True"
      ]
     },
     "execution_count": 17,
     "metadata": {},
     "output_type": "execute_result"
    }
   ],
   "source": [
    "str5=\"class\"\n",
    "str5.isidentifier()"
   ]
  },
  {
   "cell_type": "markdown",
   "id": "757b0468-931a-483e-96d1-1251418952e2",
   "metadata": {},
   "source": [
    "# 7)islower"
   ]
  },
  {
   "cell_type": "code",
   "execution_count": 18,
   "id": "7e9511ca-de9d-4515-b038-8def13158066",
   "metadata": {},
   "outputs": [
    {
     "data": {
      "text/plain": [
       "False"
      ]
     },
     "execution_count": 18,
     "metadata": {},
     "output_type": "execute_result"
    }
   ],
   "source": [
    "str6=\"HELLO PYTHON\"\n",
    "str6.islower()"
   ]
  },
  {
   "cell_type": "code",
   "execution_count": 19,
   "id": "2830e518-88e7-4570-a07b-e54634d150d8",
   "metadata": {},
   "outputs": [
    {
     "data": {
      "text/plain": [
       "True"
      ]
     },
     "execution_count": 19,
     "metadata": {},
     "output_type": "execute_result"
    }
   ],
   "source": [
    "str1=\"hello python\"\n",
    "str1.islower()"
   ]
  },
  {
   "cell_type": "markdown",
   "id": "6293425f-30b4-4dc0-bf87-39df3a656705",
   "metadata": {},
   "source": [
    "# 8)isnumeric"
   ]
  },
  {
   "cell_type": "code",
   "execution_count": 20,
   "id": "05f49c5c-f1ff-483b-94fa-0a929ceddb38",
   "metadata": {},
   "outputs": [
    {
     "data": {
      "text/plain": [
       "False"
      ]
     },
     "execution_count": 20,
     "metadata": {},
     "output_type": "execute_result"
    }
   ],
   "source": [
    "str1=\"hello python\"\n",
    "str1.isnumeric()"
   ]
  },
  {
   "cell_type": "code",
   "execution_count": 21,
   "id": "446aab85-9e53-47b5-9679-7a5edcbbe9ad",
   "metadata": {},
   "outputs": [
    {
     "data": {
      "text/plain": [
       "True"
      ]
     },
     "execution_count": 21,
     "metadata": {},
     "output_type": "execute_result"
    }
   ],
   "source": [
    "str3=\"46578\"\n",
    "str3.isnumeric()"
   ]
  },
  {
   "cell_type": "markdown",
   "id": "d520b922-81b9-4dfe-8c07-a27ff9d37031",
   "metadata": {},
   "source": [
    "# 9)isprintable"
   ]
  },
  {
   "cell_type": "code",
   "execution_count": 22,
   "id": "25b89a54-835b-4fab-adef-940e73819dc2",
   "metadata": {},
   "outputs": [
    {
     "data": {
      "text/plain": [
       "True"
      ]
     },
     "execution_count": 22,
     "metadata": {},
     "output_type": "execute_result"
    }
   ],
   "source": [
    "str1=\"hello python\"\n",
    "str1.isprintable()"
   ]
  },
  {
   "cell_type": "code",
   "execution_count": 29,
   "id": "681c9b14-7265-4e47-969a-5981fc06208b",
   "metadata": {},
   "outputs": [
    {
     "data": {
      "text/plain": [
       "True"
      ]
     },
     "execution_count": 29,
     "metadata": {},
     "output_type": "execute_result"
    }
   ],
   "source": [
    "str7='&pound;'\n",
    "str7.isprintable()"
   ]
  },
  {
   "cell_type": "markdown",
   "id": "9df0a1eb-bb1b-4dad-9da8-e39c13d6412b",
   "metadata": {},
   "source": [
    "# 10)isspace"
   ]
  },
  {
   "cell_type": "code",
   "execution_count": 25,
   "id": "36f2e08a-366b-4849-95f0-4af6b699ffc3",
   "metadata": {},
   "outputs": [
    {
     "data": {
      "text/plain": [
       "False"
      ]
     },
     "execution_count": 25,
     "metadata": {},
     "output_type": "execute_result"
    }
   ],
   "source": [
    "str1=\"hello python\"\n",
    "str1.isspace()"
   ]
  },
  {
   "cell_type": "code",
   "execution_count": 28,
   "id": "2d07108e-b7d5-4fd7-b66b-aaba07e87e36",
   "metadata": {},
   "outputs": [
    {
     "data": {
      "text/plain": [
       "True"
      ]
     },
     "execution_count": 28,
     "metadata": {},
     "output_type": "execute_result"
    }
   ],
   "source": [
    "str8='  '\n",
    "str8.isspace()"
   ]
  },
  {
   "cell_type": "markdown",
   "id": "81d1b072-f183-4dfb-b33f-b45f34d80c70",
   "metadata": {},
   "source": [
    "# 11)istitle"
   ]
  },
  {
   "cell_type": "code",
   "execution_count": 30,
   "id": "f2eb05e2-c9b5-4f16-adee-9d598be8e365",
   "metadata": {},
   "outputs": [
    {
     "data": {
      "text/plain": [
       "False"
      ]
     },
     "execution_count": 30,
     "metadata": {},
     "output_type": "execute_result"
    }
   ],
   "source": [
    "str1=\"hello python\"\n",
    "str1.istitle()"
   ]
  },
  {
   "cell_type": "code",
   "execution_count": 31,
   "id": "0c95e8fa-093c-41c6-8dc8-fdf381eeea7d",
   "metadata": {},
   "outputs": [
    {
     "data": {
      "text/plain": [
       "False"
      ]
     },
     "execution_count": 31,
     "metadata": {},
     "output_type": "execute_result"
    }
   ],
   "source": [
    "str9=\"HELLO PYTHON\"\n",
    "str9.istitle()"
   ]
  },
  {
   "cell_type": "code",
   "execution_count": 32,
   "id": "5a922f1a-6929-48af-91a4-47e818d47275",
   "metadata": {},
   "outputs": [
    {
     "data": {
      "text/plain": [
       "False"
      ]
     },
     "execution_count": 32,
     "metadata": {},
     "output_type": "execute_result"
    }
   ],
   "source": [
    "str9=\"ANACONDA\"\n",
    "str9.istitle()"
   ]
  },
  {
   "cell_type": "code",
   "execution_count": 33,
   "id": "26bf3c38-7b9c-4623-bcde-bd1fe5b94b94",
   "metadata": {},
   "outputs": [
    {
     "data": {
      "text/plain": [
       "True"
      ]
     },
     "execution_count": 33,
     "metadata": {},
     "output_type": "execute_result"
    }
   ],
   "source": [
    "str9=\"Anaconda\"\n",
    "str9.istitle()"
   ]
  },
  {
   "cell_type": "markdown",
   "id": "57fb1389-5959-4195-9cf9-42bea38d3f8d",
   "metadata": {},
   "source": [
    "# 12)isupper"
   ]
  },
  {
   "cell_type": "code",
   "execution_count": 35,
   "id": "a8f8c0cc-ea23-4bc4-97a6-6bed1dbdda23",
   "metadata": {},
   "outputs": [
    {
     "data": {
      "text/plain": [
       "True"
      ]
     },
     "execution_count": 35,
     "metadata": {},
     "output_type": "execute_result"
    }
   ],
   "source": [
    "str9=\"ANACONDA\"\n",
    "str9.isupper()"
   ]
  },
  {
   "cell_type": "code",
   "execution_count": 36,
   "id": "e30da0a8-7575-4d18-981b-9a93640d1589",
   "metadata": {},
   "outputs": [
    {
     "data": {
      "text/plain": [
       "False"
      ]
     },
     "execution_count": 36,
     "metadata": {},
     "output_type": "execute_result"
    }
   ],
   "source": [
    "str9=\"Anaconda\"\n",
    "str9.isupper()"
   ]
  },
  {
   "cell_type": "code",
   "execution_count": 37,
   "id": "f7e29f15-4568-4a6a-80ee-1337a65c58e4",
   "metadata": {},
   "outputs": [
    {
     "data": {
      "text/plain": [
       "False"
      ]
     },
     "execution_count": 37,
     "metadata": {},
     "output_type": "execute_result"
    }
   ],
   "source": [
    "str3=\"46578\"\n",
    "str3.isupper()"
   ]
  }
 ],
 "metadata": {
  "kernelspec": {
   "display_name": "Python 3 (ipykernel)",
   "language": "python",
   "name": "python3"
  },
  "language_info": {
   "codemirror_mode": {
    "name": "ipython",
    "version": 3
   },
   "file_extension": ".py",
   "mimetype": "text/x-python",
   "name": "python",
   "nbconvert_exporter": "python",
   "pygments_lexer": "ipython3",
   "version": "3.11.7"
  }
 },
 "nbformat": 4,
 "nbformat_minor": 5
}
