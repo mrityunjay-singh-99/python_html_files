{
 "cells": [
  {
   "cell_type": "markdown",
   "id": "6621ef9f-b357-4c75-9c20-2d9223ad6bb3",
   "metadata": {},
   "source": [
    "**1. How to reverse the string without using method?**\n"
   ]
  },
  {
   "cell_type": "code",
   "execution_count": 27,
   "id": "83a6b2d2-3e52-47c3-b27e-35e0c8c4f0bb",
   "metadata": {},
   "outputs": [
    {
     "name": "stdout",
     "output_type": "stream",
     "text": [
      "t\n",
      "i\n",
      "h\n",
      "o\n",
      "m\n"
     ]
    }
   ],
   "source": [
    "str1=reversed(\"mohit\")\n",
    "for i in str1:\n",
    "    print(i)\n",
    "    "
   ]
  },
  {
   "cell_type": "markdown",
   "id": "20e1e1fa-a576-4009-8e6f-08d99560a715",
   "metadata": {},
   "source": [
    "**2. Difference between string method and string function with example.**"
   ]
  },
  {
   "cell_type": "code",
   "execution_count": null,
   "id": "471db22d-073a-4af7-9ba6-6040aafba4d1",
   "metadata": {},
   "outputs": [],
   "source": [
    "# string method \n",
    "- need package \n",
    "- it use limited to string \n",
    "- it  apply directly to sting.\n",
    "\n",
    "# string function\n",
    "- it just like a keyword\n",
    "- it use to do funcning in string \n",
    "- it is limited  \n"
   ]
  },
  {
   "cell_type": "markdown",
   "id": "8ba9dbe0-1f41-4aab-a365-bbd04b425a59",
   "metadata": {},
   "source": [
    "**3. Explain 10 string function.**"
   ]
  },
  {
   "cell_type": "code",
   "execution_count": null,
   "id": "f779e149-c048-4ccf-ad54-f643c0fdb2e6",
   "metadata": {},
   "outputs": [],
   "source": [
    "str1=\"python\"\n",
    "- type(str1)\n",
    "\n",
    "- len(str1)\n",
    "\n",
    "- max (str1)\n",
    "\n",
    "- min(str1)\n",
    "\n",
    "- index(str1)\n",
    "\n",
    "- find('a')\n",
    "\n",
    "- sorted(str1)\n",
    "\n",
    "- reversed(str1)\n",
    "\n",
    "- in\n",
    "if i in str1:\n",
    "    print(i)\n",
    "- not in\n",
    "if i not in str1:\n",
    "    print(\"not avilable\")"
   ]
  },
  {
   "cell_type": "markdown",
   "id": "540f7cab-d82e-41b0-97ae-4f066a3060f6",
   "metadata": {},
   "source": [
    "**4. Whether String is mutable or immutable? Explain with example.**\n"
   ]
  },
  {
   "cell_type": "code",
   "execution_count": 5,
   "id": "5bcf0d42-9f74-4419-861f-11a89d10777b",
   "metadata": {},
   "outputs": [
    {
     "ename": "TypeError",
     "evalue": "'str' object does not support item assignment",
     "output_type": "error",
     "traceback": [
      "\u001b[1;31m---------------------------------------------------------------------------\u001b[0m",
      "\u001b[1;31mTypeError\u001b[0m                                 Traceback (most recent call last)",
      "Cell \u001b[1;32mIn[5], line 2\u001b[0m\n\u001b[0;32m      1\u001b[0m str1\u001b[38;5;241m=\u001b[39m\u001b[38;5;124m\"\u001b[39m\u001b[38;5;124mmrityunjay\u001b[39m\u001b[38;5;124m\"\u001b[39m\n\u001b[1;32m----> 2\u001b[0m str1[\u001b[38;5;241m3\u001b[39m]\u001b[38;5;241m=\u001b[39m\u001b[38;5;124m'\u001b[39m\u001b[38;5;124mT\u001b[39m\u001b[38;5;124m'\u001b[39m\n\u001b[0;32m      3\u001b[0m str1\n",
      "\u001b[1;31mTypeError\u001b[0m: 'str' object does not support item assignment"
     ]
    }
   ],
   "source": [
    "str1=\"mrityunjay\"\n",
    "str1[3]='T'\n",
    "str1\n",
    "# 'str' object does not support item assignment\n",
    "# string are mutable "
   ]
  },
  {
   "cell_type": "markdown",
   "id": "5570029c-ae89-4f76-ab44-4c5e7e0c396b",
   "metadata": {},
   "source": [
    "**5. Write a syntax for string slicing with example.**"
   ]
  },
  {
   "cell_type": "code",
   "execution_count": 15,
   "id": "e73329f7-ce71-4716-bcd1-7569e509c0f0",
   "metadata": {},
   "outputs": [
    {
     "data": {
      "text/plain": [
       "'hgnis yajivgi'"
      ]
     },
     "execution_count": 15,
     "metadata": {},
     "output_type": "execute_result"
    }
   ],
   "source": [
    "str1=\"digvijay singh\"\n",
    "str1[1:10]#w\n",
    "str1[1:len(str1):2]#w\n",
    "str1[::-1]#w\n",
    "str1[:10:-2] #w\n",
    "str1[-2:10:-2] #w\n",
    "str1[-1:-len(str1):-1]#w"
   ]
  },
  {
   "cell_type": "code",
   "execution_count": null,
   "id": "8418210b-b458-4f2e-be14-315df57fd5d3",
   "metadata": {},
   "outputs": [],
   "source": []
  }
 ],
 "metadata": {
  "kernelspec": {
   "display_name": "Python 3 (ipykernel)",
   "language": "python",
   "name": "python3"
  },
  "language_info": {
   "codemirror_mode": {
    "name": "ipython",
    "version": 3
   },
   "file_extension": ".py",
   "mimetype": "text/x-python",
   "name": "python",
   "nbconvert_exporter": "python",
   "pygments_lexer": "ipython3",
   "version": "3.11.7"
  }
 },
 "nbformat": 4,
 "nbformat_minor": 5
}
