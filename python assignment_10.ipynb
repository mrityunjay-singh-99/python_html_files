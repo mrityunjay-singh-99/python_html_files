{
 "cells": [
  {
   "cell_type": "markdown",
   "id": "a3c7dc8c-e7e2-4bed-be92-33c96ba2bcc3",
   "metadata": {},
   "source": [
    "**1. Write a program that asks the user to enter a string. The program should then print the following:**\n",
    "- (a) The total number of characters in the string \n",
    "- (b) The string repeated 10 times \n",
    "- (c) The first character of the string (remember that string indices start at 0)\n",
    "- (d) The first three  characters of the string \n",
    "- (e) The last three characters of the string \n",
    "- (f) The string backwards \n",
    "- (g) The seventh character of the string if the string is long enough and a message otherwise \n",
    "- (h) The string with its first and last characters removed\n",
    "- (i) The string in all caps\n",
    "- (j) The string with every a replaced with an e"
   ]
  },
  {
   "cell_type": "code",
   "execution_count": 3,
   "id": "427ae7d9-8a4b-453b-9e86-0cc571292a60",
   "metadata": {},
   "outputs": [
    {
     "name": "stdin",
     "output_type": "stream",
     "text": [
      "enter your name: mrityunjay singh\n"
     ]
    }
   ],
   "source": [
    "str1=input(\"enter your name:\")"
   ]
  },
  {
   "cell_type": "code",
   "execution_count": 4,
   "id": "67636897-f793-4a8d-b11e-781afa1233de",
   "metadata": {},
   "outputs": [
    {
     "data": {
      "text/plain": [
       "16"
      ]
     },
     "execution_count": 4,
     "metadata": {},
     "output_type": "execute_result"
    }
   ],
   "source": [
    "#a).\n",
    "len(str1)"
   ]
  },
  {
   "cell_type": "code",
   "execution_count": 7,
   "id": "03f82896-c67f-42d0-abd8-ef77c2c72529",
   "metadata": {},
   "outputs": [
    {
     "data": {
      "text/plain": [
       "'mrityunjay singhmrityunjay singhmrityunjay singhmrityunjay singhmrityunjay singhmrityunjay singhmrityunjay singhmrityunjay singhmrityunjay singhmrityunjay singh'"
      ]
     },
     "execution_count": 7,
     "metadata": {},
     "output_type": "execute_result"
    }
   ],
   "source": [
    "#b).\n",
    "str1*10"
   ]
  },
  {
   "cell_type": "code",
   "execution_count": 8,
   "id": "403737c2-096a-4327-ba68-c8354049ef1f",
   "metadata": {},
   "outputs": [
    {
     "data": {
      "text/plain": [
       "'m'"
      ]
     },
     "execution_count": 8,
     "metadata": {},
     "output_type": "execute_result"
    }
   ],
   "source": [
    "#c).\n",
    "str1[0]"
   ]
  },
  {
   "cell_type": "code",
   "execution_count": 10,
   "id": "c719a443-8fb2-4399-aa56-f8f2eb91481d",
   "metadata": {},
   "outputs": [
    {
     "data": {
      "text/plain": [
       "'mri'"
      ]
     },
     "execution_count": 10,
     "metadata": {},
     "output_type": "execute_result"
    }
   ],
   "source": [
    "#d).\n",
    "str1[0:3]"
   ]
  },
  {
   "cell_type": "code",
   "execution_count": 21,
   "id": "6bbab140-4867-43b1-8d9c-ab10dc473770",
   "metadata": {},
   "outputs": [
    {
     "data": {
      "text/plain": [
       "'ngh'"
      ]
     },
     "execution_count": 21,
     "metadata": {},
     "output_type": "execute_result"
    }
   ],
   "source": [
    "#e).\n",
    "str1[-3:] #dought"
   ]
  },
  {
   "cell_type": "code",
   "execution_count": 20,
   "id": "43da4f82-8bc3-4084-a2e9-f8a8eb9035f2",
   "metadata": {},
   "outputs": [
    {
     "data": {
      "text/plain": [
       "'mrityunjay singh'"
      ]
     },
     "execution_count": 20,
     "metadata": {},
     "output_type": "execute_result"
    }
   ],
   "source": [
    "str1[-16:]"
   ]
  },
  {
   "cell_type": "code",
   "execution_count": 29,
   "id": "558b13a4-d61f-4f12-be7b-c2aa8bf5ae08",
   "metadata": {},
   "outputs": [
    {
     "data": {
      "text/plain": [
       "'mrityunjay singh'"
      ]
     },
     "execution_count": 29,
     "metadata": {},
     "output_type": "execute_result"
    }
   ],
   "source": [
    "str1[::]"
   ]
  },
  {
   "cell_type": "code",
   "execution_count": 23,
   "id": "fca1d50e-5eb2-4a4d-b07c-85908bb751be",
   "metadata": {},
   "outputs": [
    {
     "data": {
      "text/plain": [
       "'hgnis yajnuytirm'"
      ]
     },
     "execution_count": 23,
     "metadata": {},
     "output_type": "execute_result"
    }
   ],
   "source": [
    "#f).\n",
    "str1[-1:-17:-1]"
   ]
  },
  {
   "cell_type": "code",
   "execution_count": 34,
   "id": "c802c7db-71db-4349-ba19-758f2245ff3a",
   "metadata": {},
   "outputs": [
    {
     "name": "stdout",
     "output_type": "stream",
     "text": [
      "string is long enough\n"
     ]
    }
   ],
   "source": [
    "#g).\n",
    "count=0\n",
    "for i in str1:\n",
    "    count=count+1\n",
    "if count<=7:\n",
    "        print(count)\n",
    "else:\n",
    "        print('string is long enough')"
   ]
  },
  {
   "cell_type": "code",
   "execution_count": 37,
   "id": "929770c5-e885-41c7-a29f-3a85e61e20e1",
   "metadata": {},
   "outputs": [
    {
     "data": {
      "text/plain": [
       "'rityunjay sing'"
      ]
     },
     "execution_count": 37,
     "metadata": {},
     "output_type": "execute_result"
    }
   ],
   "source": [
    "#h).\n",
    "str1[1:15]"
   ]
  },
  {
   "cell_type": "code",
   "execution_count": 38,
   "id": "180e1cf6-1092-4944-8073-0d724a7506e6",
   "metadata": {},
   "outputs": [
    {
     "data": {
      "text/plain": [
       "'MRITYUNJAY SINGH'"
      ]
     },
     "execution_count": 38,
     "metadata": {},
     "output_type": "execute_result"
    }
   ],
   "source": [
    "#i).\n",
    "str1.upper()"
   ]
  },
  {
   "cell_type": "code",
   "execution_count": 41,
   "id": "50e4856f-d66d-4e51-9bdd-a938591042bd",
   "metadata": {},
   "outputs": [
    {
     "data": {
      "text/plain": [
       "'mrityunjey singh'"
      ]
     },
     "execution_count": 41,
     "metadata": {},
     "output_type": "execute_result"
    }
   ],
   "source": [
    "#j).\n",
    "str1.replace('a','e')"
   ]
  },
  {
   "cell_type": "markdown",
   "id": "2075df62-9d83-4292-aa3a-2355ff7895b5",
   "metadata": {},
   "source": [
    "**2. A simple way to estimate the number of words in a string is to count the number of spaces in the \n",
    "string. Write a program that asks the user for a string and returns an estimate of how many words \n",
    "are in the string.\n",
    "Tip: You need to count the number of words using spaces**"
   ]
  },
  {
   "cell_type": "code",
   "execution_count": 59,
   "id": "e9d78a03-37f5-4afb-adf2-f9632005ec16",
   "metadata": {},
   "outputs": [
    {
     "name": "stdin",
     "output_type": "stream",
     "text": [
      "Enter a specific sentence ram ram ram ram ram ram ram\n"
     ]
    },
    {
     "name": "stdout",
     "output_type": "stream",
     "text": [
      "the number of word is: 7\n"
     ]
    }
   ],
   "source": [
    "count=0\n",
    "str2=input('Enter a specific sentence')\n",
    "for i in str2:\n",
    "    if i==' ':\n",
    "        count=count+1\n",
    "print(f\"the number of word is: {count+1}\")"
   ]
  },
  {
   "cell_type": "markdown",
   "id": "30ded83e-ffba-4c1c-85ca-c85ae92b3057",
   "metadata": {},
   "source": [
    "**3.Write a program that asks the user to enter a word and prints out whether that word contains any \n",
    "vowels**"
   ]
  },
  {
   "cell_type": "code",
   "execution_count": 2,
   "id": "1b32fafe-f81d-4a59-93d8-6d2c034eeb8d",
   "metadata": {},
   "outputs": [
    {
     "name": "stdin",
     "output_type": "stream",
     "text": [
      "Enter the specific word: eewwaawe\n"
     ]
    },
    {
     "name": "stdout",
     "output_type": "stream",
     "text": [
      "e\n",
      "e\n",
      "a\n",
      "a\n",
      "e\n"
     ]
    }
   ],
   "source": [
    "str3=input('Enter the specific word:')\n",
    "for i1 in str3:\n",
    "    for i2 in 'aeoiu':\n",
    "          if i1==i2:\n",
    "              print(i2)"
   ]
  },
  {
   "cell_type": "markdown",
   "id": "715c7e74-5a45-4e8e-abca-c4122fb92ae6",
   "metadata": {},
   "source": [
    "**4. Improvise above code by providing unique vowels**"
   ]
  },
  {
   "cell_type": "code",
   "execution_count": 3,
   "id": "fa24b1ac-c183-43d4-b752-f2c01f6843e7",
   "metadata": {
    "scrolled": true
   },
   "outputs": [
    {
     "name": "stdin",
     "output_type": "stream",
     "text": [
      "Enter the specific word: aaepion\n"
     ]
    },
    {
     "name": "stdout",
     "output_type": "stream",
     "text": [
      "a\n",
      "e\n",
      "i\n",
      "o\n"
     ]
    }
   ],
   "source": [
    "str3=input('Enter the specific word:')\n",
    "str4=''\n",
    "for i in str3:\n",
    "    if i in 'aeoiu':\n",
    "        if i not in str4:\n",
    "            str4=str4+i\n",
    "            print(i)\n",
    "            \n",
    "          "
   ]
  },
  {
   "cell_type": "markdown",
   "id": "a859f3bb-2290-4f84-bd85-6127962f2b3e",
   "metadata": {},
   "source": [
    "**5. Write a program that asks the user to enter a string. The program should create a new string \n",
    "called new_string from the user’s string such that the second character is changed to an asterisk and \n",
    "three exclamation points are attached to the end of the string. Finally, print new_string. \n",
    "Typical output is shown below: \n",
    "Enter your string: Qbert \n",
    "Output: Q*ert!!!**"
   ]
  },
  {
   "cell_type": "code",
   "execution_count": 4,
   "id": "1151eab4-f16e-472d-b426-d00af558d17c",
   "metadata": {},
   "outputs": [
    {
     "name": "stdin",
     "output_type": "stream",
     "text": [
      "enter the word or sentense mritynjay singh\n"
     ]
    },
    {
     "data": {
      "text/plain": [
       "'m*itynjay singh!!!'"
      ]
     },
     "execution_count": 4,
     "metadata": {},
     "output_type": "execute_result"
    }
   ],
   "source": [
    "str1=input(\"enter the word or sentense\")\n",
    "str2=str1.replace(str1[1],'*')\n",
    "str3=('!!!')\n",
    "str2+str3\n"
   ]
  },
  {
   "cell_type": "markdown",
   "id": "3e70d77c-f1c5-4c14-bd17-406674f3bfcf",
   "metadata": {},
   "source": [
    "**6. Write a program that asks the user to enter a word and determines whether the word is a \n",
    "palindrome or not. A palindrome is a word that reads the same backwards as forwards**"
   ]
  },
  {
   "cell_type": "code",
   "execution_count": 22,
   "id": "68b0e0ab-66b9-463c-b480-7ff53625d055",
   "metadata": {},
   "outputs": [
    {
     "name": "stdin",
     "output_type": "stream",
     "text": [
      "Enter the value iti\n"
     ]
    },
    {
     "name": "stdout",
     "output_type": "stream",
     "text": [
      "it is a palindrome.\n"
     ]
    }
   ],
   "source": [
    "#abcde=edcba\n",
    "str6=input(\"Enter the value\")\n",
    "str7=str6[::-1]\n",
    "\n",
    "if str6==str7:\n",
    "    print(f\"it is a palindrome.\")\n",
    "else:\n",
    "    print(f\"it is not a palindrome.\")    "
   ]
  },
  {
   "cell_type": "markdown",
   "id": "a77d1df0-7033-43d3-ab03-f8a7e679df44",
   "metadata": {},
   "source": [
    "**7. At a certain school, student email addresses end with @student.college.edu, while professor \n",
    "email addresses end with @prof.college.edu. Write a program that first asks the user how many \n",
    "email addresses they will be entering, and then has the user enter those addresses. After all the \n",
    "email addresses are entered, the program should print out a message indicating either that all the \n",
    "addresses are student addresses or that there were some professor addresses entered.**"
   ]
  },
  {
   "cell_type": "code",
   "execution_count": 4,
   "id": "64de2fe8-9cd8-4178-8c49-fb29fd5e2a9a",
   "metadata": {},
   "outputs": [
    {
     "name": "stdin",
     "output_type": "stream",
     "text": [
      " 2\n",
      " ddsda@sfkljf\n"
     ]
    },
    {
     "name": "stdout",
     "output_type": "stream",
     "text": [
      "enter_email0:ddsda@sfkljf\n"
     ]
    },
    {
     "name": "stdin",
     "output_type": "stream",
     "text": [
      " da@slpkpr\n"
     ]
    },
    {
     "name": "stdout",
     "output_type": "stream",
     "text": [
      "enter_email1:da@slpkpr\n",
      "all of the student.\n"
     ]
    }
   ],
   "source": [
    "how_many=int(input())\n",
    "for i in range(how_many):\n",
    "    enter_email=input()\n",
    "    print(f\"enter_email{i}:{enter_email}\")\n",
    "l1=enter_email.find('@s')\n",
    "l2=enter_email.find('@p')\n",
    "\n",
    "s_name=enter_email[l1:]\n",
    "p_name=enter_email[l2:]\n",
    "count=0\n",
    "for i in range(how_many):\n",
    "    s_name=enter_email[l1:]\n",
    "    if s_name in enter_email:\n",
    "        count=count+1\n",
    "if count==how_many:\n",
    "    print(\"all of the student.\")\n",
    "else:\n",
    "    print('some are professor.')\n"
   ]
  },
  {
   "cell_type": "markdown",
   "id": "9257cf7e-58f5-42b9-9762-718a84c7b4b8",
   "metadata": {},
   "source": [
    "**8. Write a program that asks the user to enter a string, then prints out each letter of the string \n",
    "doubled and on a separate line. For instance, \n",
    "if the user entered HEY, \n",
    "the output would be \n",
    "HH \n",
    "EE \n",
    "YY**"
   ]
  },
  {
   "cell_type": "code",
   "execution_count": 23,
   "id": "f2e4a733-2e04-489e-a24c-dc49d27d2355",
   "metadata": {},
   "outputs": [
    {
     "name": "stdin",
     "output_type": "stream",
     "text": [
      "Enter the word: mrityunjay\n"
     ]
    },
    {
     "name": "stdout",
     "output_type": "stream",
     "text": [
      "repitation:mm\n",
      "repitation:rr\n",
      "repitation:ii\n",
      "repitation:tt\n",
      "repitation:yy\n",
      "repitation:uu\n",
      "repitation:nn\n",
      "repitation:jj\n",
      "repitation:aa\n",
      "repitation:yy\n"
     ]
    }
   ],
   "source": [
    "str7=input(\"Enter the word:\")\n",
    "for i in str7:\n",
    "    new_str=i+i\n",
    "    print(f\"repitation:{new_str}\")      "
   ]
  },
  {
   "cell_type": "markdown",
   "id": "62103dc0-01f9-4650-b0fd-543b7d7cd337",
   "metadata": {},
   "source": [
    "**9.Write a program that asks the user to enter a word that contains the letter a. The program should \n",
    "then print the following two lines: On the first line should be the part of the string up to and \n",
    "including the the first a, and on the second line should be the rest of the string. \n",
    "Sample output is shown below: \n",
    "Enter a word: buffalo \n",
    "buffa \n",
    "lo**"
   ]
  },
  {
   "cell_type": "code",
   "execution_count": 5,
   "id": "90709696-874c-4b5a-8b30-4c4998bcb0ca",
   "metadata": {},
   "outputs": [
    {
     "name": "stdin",
     "output_type": "stream",
     "text": [
      "Enter the string in letter a: ramram ram\n"
     ]
    },
    {
     "name": "stdout",
     "output_type": "stream",
     "text": [
      "ra\n",
      "mram ram\n"
     ]
    }
   ],
   "source": [
    "str8=input(\"Enter the word in letter a:\")\n",
    "if 'a' in str8:\n",
    "    f_str=str8.find('a')\n",
    "    n1_str=str8[0:f_str+1]\n",
    "print(n1_str)\n",
    "n2_str=str8[f_str+1:]\n",
    "print(n2_str)"
   ]
  },
  {
   "cell_type": "markdown",
   "id": "62f8c509-04ea-4c30-a453-c9bfe12dfe92",
   "metadata": {},
   "source": [
    "**10. Write a program that asks the user to enter a word and then capitalizes every other letter of that \n",
    "word. \n",
    "So if the user enters rhinoceros, \n",
    "the program should print rHiNoCeRoS.**"
   ]
  },
  {
   "cell_type": "code",
   "execution_count": null,
   "id": "48d42a88-6707-43e2-9577-f5fdf08efbc8",
   "metadata": {},
   "outputs": [],
   "source": [
    "str9=input(\"Enter the word\")\n",
    "s = ''\n",
    "for i in range(len(str9)):\n",
    "    if i%2 != 0:\n",
    "        s+= str9[i].upper()    \n",
    "    else:     \n",
    "        s+= str9[i].lower()\n",
    "print(s)"
   ]
  },
  {
   "cell_type": "code",
   "execution_count": 89,
   "id": "eac9a797-b097-46fe-a536-e95a7f780a72",
   "metadata": {},
   "outputs": [
    {
     "name": "stdin",
     "output_type": "stream",
     "text": [
      "Enter the word abcd\n"
     ]
    },
    {
     "name": "stdout",
     "output_type": "stream",
     "text": [
      "BD\n"
     ]
    }
   ],
   "source": [
    "str11=input(\"Enter the word\")\n",
    "str10=''\n",
    "for i in range(len(str11)):\n",
    "    if i%2!=0:\n",
    "        str10=str10+str11[i].upper()\n",
    "    else:\n",
    "        srt10=str10+str11[i].lower()\n",
    "print(str10)        "
   ]
  },
  {
   "cell_type": "markdown",
   "id": "3c895b0c-f99a-4e00-9180-df47a0c5811d",
   "metadata": {},
   "source": [
    "**11. Write a program that asks the user to enter two strings of the same length. The program should \n",
    "then check to see if the strings are of the same length. If they are not, the program should print an \n",
    "appropriate message and exit. If they are of the same length, the program should alternate the \n",
    "characters of the two strings. For example, \n",
    "if the user enters abcde and ABCDE \n",
    "the program should print out AaBbCcDdEe.**"
   ]
  },
  {
   "cell_type": "code",
   "execution_count": 45,
   "id": "a465681a-c2a8-4218-96f2-af8311e2cce0",
   "metadata": {},
   "outputs": [
    {
     "name": "stdin",
     "output_type": "stream",
     "text": [
      " mrityunjay\n",
      " MRITYUNJAY\n"
     ]
    },
    {
     "name": "stdout",
     "output_type": "stream",
     "text": [
      "mMrRiItTyYuUnNjJaAyY\n"
     ]
    }
   ],
   "source": [
    "str22=input(\"enter the word:\")\n",
    "str33=input(\"enter the word\")\n",
    "\n",
    "if len(str22)==len(str33):\n",
    "    i=0\n",
    "    j=0\n",
    "    str44=\"\"\n",
    "    while i<len(str22) or j<len(str33):\n",
    "        if i<len(str22):\n",
    "            str44=str44+str22[i]\n",
    "            i=i+1\n",
    "        if j<len(str33):\n",
    "            str44=str44+str33[j]\n",
    "            j=j+1\n",
    "    print(str44)    "
   ]
  },
  {
   "cell_type": "markdown",
   "id": "93b7a070-ebf3-4bb0-a4f3-319bddd3c6f6",
   "metadata": {},
   "source": [
    "**12. Write a program that asks the user to enter their name in lowercase and then capitalizes the first \n",
    "letter of each word of their name**"
   ]
  },
  {
   "cell_type": "code",
   "execution_count": 6,
   "id": "177c6af8-bb68-4ac7-80e9-de42897b31b1",
   "metadata": {},
   "outputs": [
    {
     "name": "stdin",
     "output_type": "stream",
     "text": [
      "Enter the word and sentence once upon a time.\n"
     ]
    },
    {
     "data": {
      "text/plain": [
       "'Once Upon A Time.'"
      ]
     },
     "execution_count": 6,
     "metadata": {},
     "output_type": "execute_result"
    }
   ],
   "source": [
    "str22=input(\"Enter the word and sentence\")\n",
    "str11=str22.title()\n",
    "str11"
   ]
  }
 ],
 "metadata": {
  "kernelspec": {
   "display_name": "Python 3 (ipykernel)",
   "language": "python",
   "name": "python3"
  },
  "language_info": {
   "codemirror_mode": {
    "name": "ipython",
    "version": 3
   },
   "file_extension": ".py",
   "mimetype": "text/x-python",
   "name": "python",
   "nbconvert_exporter": "python",
   "pygments_lexer": "ipython3",
   "version": "3.11.7"
  }
 },
 "nbformat": 4,
 "nbformat_minor": 5
}
